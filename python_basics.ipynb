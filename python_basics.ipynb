{
  "cells": [
    {
      "cell_type": "markdown",
      "metadata": {
        "id": "view-in-github",
        "colab_type": "text"
      },
      "source": [
        "<a href=\"https://colab.research.google.com/github/Jigyasa-arch/PythonPractice/blob/main/python_basics.ipynb\" target=\"_parent\"><img src=\"https://colab.research.google.com/assets/colab-badge.svg\" alt=\"Open In Colab\"/></a>"
      ]
    },
    {
      "cell_type": "code",
      "execution_count": null,
      "id": "1ee8bd62-d5e8-47e9-8e48-744a6572abc9",
      "metadata": {
        "id": "1ee8bd62-d5e8-47e9-8e48-744a6572abc9"
      },
      "outputs": [],
      "source": [
        "import const"
      ]
    },
    {
      "cell_type": "code",
      "execution_count": null,
      "id": "ae0de982-1d58-4770-bbb0-ef6afc34b7b4",
      "metadata": {
        "id": "ae0de982-1d58-4770-bbb0-ef6afc34b7b4",
        "outputId": "6a32c950-7072-4d1a-f6b2-b938ba6b2030"
      },
      "outputs": [
        {
          "name": "stdout",
          "output_type": "stream",
          "text": [
            "3.14\n"
          ]
        }
      ],
      "source": [
        "print(const.PI)"
      ]
    },
    {
      "cell_type": "code",
      "execution_count": null,
      "id": "d74046d5-56f6-48ad-9c34-a599183c978c",
      "metadata": {
        "id": "d74046d5-56f6-48ad-9c34-a599183c978c"
      },
      "outputs": [],
      "source": [
        "PI=34\n"
      ]
    },
    {
      "cell_type": "code",
      "execution_count": null,
      "id": "0706fba9-fe6e-4de9-a493-b7ec534e8f02",
      "metadata": {
        "id": "0706fba9-fe6e-4de9-a493-b7ec534e8f02",
        "outputId": "47ccc083-3a03-49bb-aa07-d67d3aa3a67f"
      },
      "outputs": [
        {
          "name": "stdout",
          "output_type": "stream",
          "text": [
            "3.14\n"
          ]
        }
      ],
      "source": [
        "print(const.PI)"
      ]
    },
    {
      "cell_type": "code",
      "execution_count": null,
      "id": "fde79219-72e8-4709-af88-0b50e56d3178",
      "metadata": {
        "id": "fde79219-72e8-4709-af88-0b50e56d3178",
        "outputId": "120be2d9-7ec9-4275-cd19-b05e5ca0f5a5"
      },
      "outputs": [
        {
          "name": "stdout",
          "output_type": "stream",
          "text": [
            "34\n"
          ]
        }
      ],
      "source": [
        "print(PI)"
      ]
    },
    {
      "cell_type": "markdown",
      "id": "0d328e63-9b12-4b43-9d6a-9e1ac0e0b7e9",
      "metadata": {
        "id": "0d328e63-9b12-4b43-9d6a-9e1ac0e0b7e9"
      },
      "source": [
        "#### Comments"
      ]
    },
    {
      "cell_type": "code",
      "execution_count": 1,
      "id": "4d84a029-63bb-44e0-9dd1-a735d0c1e967",
      "metadata": {
        "colab": {
          "base_uri": "https://localhost:8080/",
          "height": 36
        },
        "id": "4d84a029-63bb-44e0-9dd1-a735d0c1e967",
        "outputId": "5e67ee80-809c-4929-969c-5ec2e7ac4b01"
      },
      "outputs": [
        {
          "output_type": "execute_result",
          "data": {
            "text/plain": [
              "' this is first sentence\\nthis is second sentence\\nthis is third sentence'"
            ],
            "application/vnd.google.colaboratory.intrinsic+json": {
              "type": "string"
            }
          },
          "metadata": {},
          "execution_count": 1
        }
      ],
      "source": [
        "# This is single line comments\n",
        "''' this is first sentence\n",
        "this is second sentence\n",
        "this is third sentence'''"
      ]
    },
    {
      "cell_type": "code",
      "execution_count": 9,
      "id": "49458778-732b-4e93-ae53-6387e5ef4ca7",
      "metadata": {
        "colab": {
          "base_uri": "https://localhost:8080/"
        },
        "id": "49458778-732b-4e93-ae53-6387e5ef4ca7",
        "outputId": "3a77f5c0-edfe-4548-9bc5-02998c6f77c3"
      },
      "outputs": [
        {
          "output_type": "stream",
          "name": "stdout",
          "text": [
            "3\n"
          ]
        }
      ],
      "source": [
        "# Variables\n",
        "a=1\n",
        "b=2\n",
        "print(a+b)"
      ]
    },
    {
      "cell_type": "code",
      "execution_count": 11,
      "id": "32378481-05f7-4050-b1a0-d33170e8b3a3",
      "metadata": {
        "colab": {
          "base_uri": "https://localhost:8080/"
        },
        "id": "32378481-05f7-4050-b1a0-d33170e8b3a3",
        "outputId": "620c98d3-04f6-4356-cbee-a737aeca900d"
      },
      "outputs": [
        {
          "output_type": "stream",
          "name": "stdout",
          "text": [
            "yuvraj\n",
            "21\n",
            "True\n"
          ]
        }
      ],
      "source": [
        "name=\"yuvraj\"\n",
        "age=21\n",
        "is_Student= True\n",
        "print(name)\n",
        "print(age)\n",
        "print(is_Student)"
      ]
    },
    {
      "cell_type": "code",
      "execution_count": 12,
      "id": "761b4490-7ba1-4da6-86e4-49bf8d0cce62",
      "metadata": {
        "colab": {
          "base_uri": "https://localhost:8080/"
        },
        "id": "761b4490-7ba1-4da6-86e4-49bf8d0cce62",
        "outputId": "a507550b-0d55-42b4-814b-791a3f65a1d7"
      },
      "outputs": [
        {
          "output_type": "stream",
          "name": "stdout",
          "text": [
            "<class 'str'>\n",
            "<class 'int'>\n",
            "<class 'bool'>\n"
          ]
        }
      ],
      "source": [
        "print(type(name))\n",
        "print(type(age))\n",
        "print(type(is_Student))"
      ]
    },
    {
      "cell_type": "code",
      "execution_count": null,
      "id": "18f0eef7-ef82-4ab5-9ab3-10bc8dfa6654",
      "metadata": {
        "id": "18f0eef7-ef82-4ab5-9ab3-10bc8dfa6654",
        "outputId": "aa2b108e-acf9-46e5-d977-35a64f5ad7e9"
      },
      "outputs": [
        {
          "name": "stdout",
          "output_type": "stream",
          "text": [
            "10\n",
            "5\n"
          ]
        }
      ],
      "source": [
        "#swap the values of two variables without using two variables\n",
        "x=5\n",
        "y=10\n",
        "x,y=y,x\n",
        "print(x)\n",
        "print(y)"
      ]
    },
    {
      "cell_type": "markdown",
      "id": "cb699815-975b-4494-b081-fb01542872df",
      "metadata": {
        "id": "cb699815-975b-4494-b081-fb01542872df"
      },
      "source": [
        "##### What will be the result of the following expression: 5 + 3 * 2?"
      ]
    },
    {
      "cell_type": "code",
      "execution_count": null,
      "id": "9b3784f7-a3fc-442e-9a9c-fae71b02872c",
      "metadata": {
        "id": "9b3784f7-a3fc-442e-9a9c-fae71b02872c",
        "outputId": "2d8190e5-bcaf-4e57-eda6-9dd53dce34ab"
      },
      "outputs": [
        {
          "name": "stdout",
          "output_type": "stream",
          "text": [
            "11\n"
          ]
        }
      ],
      "source": [
        "# According to operator precedence, multiplication happens first\n",
        "# 3 * 2 = 6\n",
        "# 5 + 6 = 11\n",
        "print(5 + 3 * 2)  # Output: 11"
      ]
    },
    {
      "cell_type": "markdown",
      "id": "08f74683-e10c-4b92-a689-3aabb80fa074",
      "metadata": {
        "id": "08f74683-e10c-4b92-a689-3aabb80fa074"
      },
      "source": [
        "#####  What will be the output of 10 // 3 and 10 % 3?"
      ]
    },
    {
      "cell_type": "code",
      "execution_count": null,
      "id": "808208b7-2c3b-46fe-af1f-e76632055b5d",
      "metadata": {
        "id": "808208b7-2c3b-46fe-af1f-e76632055b5d",
        "outputId": "2a027621-a9d8-4112-b5c6-5d43de716aa7"
      },
      "outputs": [
        {
          "name": "stdout",
          "output_type": "stream",
          "text": [
            "3\n",
            "1\n"
          ]
        }
      ],
      "source": [
        "# Integer division and modulo\n",
        "print(10 // 3)  # Output: 3 (quotient)\n",
        "print(10 % 3)   # Output: 1 (remainder)"
      ]
    },
    {
      "cell_type": "markdown",
      "id": "d7e52479-1e9a-4dcb-84f4-46532ce88776",
      "metadata": {
        "id": "d7e52479-1e9a-4dcb-84f4-46532ce88776"
      },
      "source": [
        "##### What will be the output of 10 // 3 and 10 % 3?"
      ]
    },
    {
      "cell_type": "code",
      "execution_count": null,
      "id": "ec57fca1-740d-4a69-8da0-6f82c5dcd13d",
      "metadata": {
        "id": "ec57fca1-740d-4a69-8da0-6f82c5dcd13d",
        "outputId": "a3629168-f49d-432c-d044-1a47e9beb88e"
      },
      "outputs": [
        {
          "name": "stdout",
          "output_type": "stream",
          "text": [
            "3\n",
            "1\n"
          ]
        }
      ],
      "source": [
        "# Integer division and modulo\n",
        "print(10 // 3)  # Output: 3 (quotient)\n",
        "print(10 % 3)   # Output: 1 (remainder)"
      ]
    },
    {
      "cell_type": "markdown",
      "id": "0c32f4aa-9a2c-46a3-bb69-549d0e8be711",
      "metadata": {
        "id": "0c32f4aa-9a2c-46a3-bb69-549d0e8be711"
      },
      "source": [
        "##### Use assignment operators to increment a variable by 10."
      ]
    },
    {
      "cell_type": "code",
      "execution_count": 13,
      "id": "683f2c01-ae72-4ca9-80da-8b93e96a47f8",
      "metadata": {
        "colab": {
          "base_uri": "https://localhost:8080/"
        },
        "id": "683f2c01-ae72-4ca9-80da-8b93e96a47f8",
        "outputId": "2440d14f-7b52-4580-a1ff-f6c113df1d81"
      },
      "outputs": [
        {
          "output_type": "stream",
          "name": "stdout",
          "text": [
            "30\n"
          ]
        }
      ],
      "source": [
        "# x = 20\n",
        "# Add 10 using +=\n",
        "x = 20\n",
        "x += 10    #x=x+10\n",
        "print(x)  # Output: 30"
      ]
    },
    {
      "cell_type": "markdown",
      "id": "d1e188dc-9cd4-4e6d-bb17-ac67037b153a",
      "metadata": {
        "id": "d1e188dc-9cd4-4e6d-bb17-ac67037b153a"
      },
      "source": [
        "##### Compare two numbers and print whether they are equal."
      ]
    },
    {
      "cell_type": "code",
      "execution_count": 14,
      "id": "de7d5493-d64d-47ba-be3a-06e910823906",
      "metadata": {
        "colab": {
          "base_uri": "https://localhost:8080/"
        },
        "id": "de7d5493-d64d-47ba-be3a-06e910823906",
        "outputId": "0bb4d2fe-942b-4f4a-d72e-7fd0499ab0da"
      },
      "outputs": [
        {
          "output_type": "stream",
          "name": "stdout",
          "text": [
            "False\n"
          ]
        }
      ],
      "source": [
        "# a = 7, b = 7\n",
        "# Check if a == b\n",
        "a = 7\n",
        "b = 5\n",
        "print(a == b)  # Output: True\n"
      ]
    },
    {
      "cell_type": "markdown",
      "id": "3bb08001-6a37-4397-88aa-410f42e606f1",
      "metadata": {
        "id": "3bb08001-6a37-4397-88aa-410f42e606f1"
      },
      "source": [
        "##### Use bitwise AND and OR on two numbers: 5 and 3"
      ]
    },
    {
      "cell_type": "code",
      "execution_count": null,
      "id": "b4030781-4a92-4d73-8427-a1a319227a54",
      "metadata": {
        "id": "b4030781-4a92-4d73-8427-a1a319227a54",
        "outputId": "00302ef5-443f-4dbb-9e1b-653999b871d4"
      },
      "outputs": [
        {
          "name": "stdout",
          "output_type": "stream",
          "text": [
            "1\n",
            "7\n"
          ]
        }
      ],
      "source": [
        "a = 5      # 0101\n",
        "b = 3      # 0011\n",
        "\n",
        "print(a & b)  # Output: 1 (0001)\n",
        "print(a | b)  # Output: 7 (0111)"
      ]
    },
    {
      "cell_type": "markdown",
      "id": "4e841068-bcfc-4ce4-868f-e177230e0301",
      "metadata": {
        "id": "4e841068-bcfc-4ce4-868f-e177230e0301"
      },
      "source": [
        "##### Use identity operator to compare two variables."
      ]
    },
    {
      "cell_type": "code",
      "execution_count": 16,
      "id": "6ff45a57-a05f-4866-bd1f-8af62a6e5441",
      "metadata": {
        "colab": {
          "base_uri": "https://localhost:8080/"
        },
        "id": "6ff45a57-a05f-4866-bd1f-8af62a6e5441",
        "outputId": "e61d6da4-bee4-43c5-a782-2d274c22200c"
      },
      "outputs": [
        {
          "output_type": "stream",
          "name": "stdout",
          "text": [
            "True\n",
            "False\n"
          ]
        }
      ],
      "source": [
        "# x = [1, 2], y = x, z = [1, 2]\n",
        "# Check x is y and x is z\n",
        "x = [1, 2]\n",
        "y = x\n",
        "z = [1, 2]\n",
        "\n",
        "print(x is y)  # True\n",
        "print(x is z)  # False (different object in memory)\n"
      ]
    },
    {
      "cell_type": "code",
      "execution_count": 17,
      "id": "6efc925e-da72-4797-9fef-3562af96dc4d",
      "metadata": {
        "id": "6efc925e-da72-4797-9fef-3562af96dc4d"
      },
      "outputs": [],
      "source": [
        "y[0]=4"
      ]
    },
    {
      "cell_type": "code",
      "source": [
        "y"
      ],
      "metadata": {
        "colab": {
          "base_uri": "https://localhost:8080/"
        },
        "id": "S-9GxhX7VjQF",
        "outputId": "349fbbef-e5b8-455a-8330-71a62669c144"
      },
      "id": "S-9GxhX7VjQF",
      "execution_count": 18,
      "outputs": [
        {
          "output_type": "execute_result",
          "data": {
            "text/plain": [
              "[4, 2]"
            ]
          },
          "metadata": {},
          "execution_count": 18
        }
      ]
    },
    {
      "cell_type": "code",
      "execution_count": null,
      "id": "d2866da2-4d02-4ae6-9eb8-0008afefb31d",
      "metadata": {
        "id": "d2866da2-4d02-4ae6-9eb8-0008afefb31d",
        "outputId": "f6e7662c-e427-44b2-9e4b-bd8ac5181a27"
      },
      "outputs": [
        {
          "name": "stdout",
          "output_type": "stream",
          "text": [
            "[4, 2]\n"
          ]
        }
      ],
      "source": [
        "print(x)"
      ]
    },
    {
      "cell_type": "code",
      "execution_count": 19,
      "id": "0c5aedd6-7222-472c-8b1a-4112f65ac327",
      "metadata": {
        "colab": {
          "base_uri": "https://localhost:8080/"
        },
        "id": "0c5aedd6-7222-472c-8b1a-4112f65ac327",
        "outputId": "239059e0-b66a-4ad1-fa22-92f3ddec1640"
      },
      "outputs": [
        {
          "output_type": "execute_result",
          "data": {
            "text/plain": [
              "138827583468864"
            ]
          },
          "metadata": {},
          "execution_count": 19
        }
      ],
      "source": [
        "id(x)\n"
      ]
    },
    {
      "cell_type": "code",
      "execution_count": 20,
      "id": "6982fd15-5209-4045-85e1-fe148990b955",
      "metadata": {
        "colab": {
          "base_uri": "https://localhost:8080/"
        },
        "id": "6982fd15-5209-4045-85e1-fe148990b955",
        "outputId": "0461fa96-e77e-44d1-f152-716396979b8b"
      },
      "outputs": [
        {
          "output_type": "execute_result",
          "data": {
            "text/plain": [
              "138827583468864"
            ]
          },
          "metadata": {},
          "execution_count": 20
        }
      ],
      "source": [
        "id(y)"
      ]
    },
    {
      "cell_type": "code",
      "source": [
        "id(z)"
      ],
      "metadata": {
        "colab": {
          "base_uri": "https://localhost:8080/"
        },
        "id": "hSFJz9SjVxNC",
        "outputId": "ee2bb996-a91e-4a0c-96b0-02a9e4649435"
      },
      "id": "hSFJz9SjVxNC",
      "execution_count": 21,
      "outputs": [
        {
          "output_type": "execute_result",
          "data": {
            "text/plain": [
              "138828431562368"
            ]
          },
          "metadata": {},
          "execution_count": 21
        }
      ]
    },
    {
      "cell_type": "code",
      "execution_count": null,
      "id": "5c852d2f-0b28-4265-bedd-38ac52ce7d88",
      "metadata": {
        "id": "5c852d2f-0b28-4265-bedd-38ac52ce7d88",
        "outputId": "02c26d9e-dcc6-4e5e-8167-176b0e8ec5d4"
      },
      "outputs": [
        {
          "data": {
            "text/plain": [
              "list"
            ]
          },
          "execution_count": 21,
          "metadata": {},
          "output_type": "execute_result"
        }
      ],
      "source": [
        "type(y)"
      ]
    },
    {
      "cell_type": "code",
      "execution_count": null,
      "id": "09475d71-e3dd-40e4-9a1c-e22e9f2e3b90",
      "metadata": {
        "id": "09475d71-e3dd-40e4-9a1c-e22e9f2e3b90",
        "outputId": "6263406b-4c75-4298-ebe7-549a2d292131"
      },
      "outputs": [
        {
          "name": "stdout",
          "output_type": "stream",
          "text": [
            "[1, 2]\n"
          ]
        }
      ],
      "source": [
        "print(y)"
      ]
    },
    {
      "cell_type": "markdown",
      "id": "74e93ca5-2e55-472e-959b-32eade358488",
      "metadata": {
        "id": "74e93ca5-2e55-472e-959b-32eade358488"
      },
      "source": [
        "##### Use logical operators with boolean values."
      ]
    },
    {
      "cell_type": "code",
      "execution_count": 23,
      "id": "365c2223-7e3f-4270-b137-96d306260076",
      "metadata": {
        "colab": {
          "base_uri": "https://localhost:8080/"
        },
        "id": "365c2223-7e3f-4270-b137-96d306260076",
        "outputId": "1c23a8e7-1f1f-45c8-a2ac-4c23e9db11d6"
      },
      "outputs": [
        {
          "output_type": "stream",
          "name": "stdout",
          "text": [
            "False\n",
            "True\n",
            "True\n"
          ]
        }
      ],
      "source": [
        "a = True\n",
        "b = False\n",
        "\n",
        "print(a and b)  # False\n",
        "print(a or b)   # True\n",
        "print(not b)    # True\n"
      ]
    },
    {
      "cell_type": "markdown",
      "id": "f37760e3-03db-44e2-92b8-732edf8c01e7",
      "metadata": {
        "id": "f37760e3-03db-44e2-92b8-732edf8c01e7"
      },
      "source": [
        "##### Predict the output:"
      ]
    },
    {
      "cell_type": "code",
      "execution_count": 24,
      "id": "7951b16b-d2f8-4e46-96b9-5dbc99644409",
      "metadata": {
        "colab": {
          "base_uri": "https://localhost:8080/"
        },
        "id": "7951b16b-d2f8-4e46-96b9-5dbc99644409",
        "outputId": "d2f3a368-5e3b-4f22-d70c-b95585846e39"
      },
      "outputs": [
        {
          "output_type": "stream",
          "name": "stdout",
          "text": [
            "True\n"
          ]
        }
      ],
      "source": [
        "x = 10\n",
        "y = 20\n",
        "print(x != y and x < y)"
      ]
    },
    {
      "cell_type": "markdown",
      "id": "de30d215-12d6-46a5-949a-dcfa39fbeafa",
      "metadata": {
        "id": "de30d215-12d6-46a5-949a-dcfa39fbeafa"
      },
      "source": [
        "#### Data types\n",
        "###### Data types are classifications of data that tell a computer how to store and interpret information. They determine the kind of data a variable can hold, the operations that can be performed on it, and how the data is represented in memory."
      ]
    },
    {
      "cell_type": "code",
      "execution_count": 25,
      "id": "9237f802-60d5-415f-9c90-703b856f1bdb",
      "metadata": {
        "id": "9237f802-60d5-415f-9c90-703b856f1bdb"
      },
      "outputs": [],
      "source": [
        "name = \"yuvraj 32632 @#$%\" # string\n",
        "age=21   # integer data type\n",
        "fees= 236.64 # float data type\n",
        "complex= 12+0j\n",
        "list= [1,2,\"yuvraj\",2.4,['a','b','c']]\n",
        "tuple= (1,2,3,4)\n",
        "set= {1,2,3,4,5}\n",
        "dict= {\"up\":1,\"haryana\":2,\"punjab\":3,\"jammu\":4}"
      ]
    },
    {
      "cell_type": "code",
      "execution_count": 26,
      "id": "573713e5-b0ec-4091-bc71-c3edc20d3ea4",
      "metadata": {
        "id": "573713e5-b0ec-4091-bc71-c3edc20d3ea4"
      },
      "outputs": [],
      "source": [
        "list[0]=10"
      ]
    },
    {
      "cell_type": "code",
      "execution_count": 28,
      "id": "dd069480-ecfd-442c-9d54-57cf8b9dc503",
      "metadata": {
        "colab": {
          "base_uri": "https://localhost:8080/"
        },
        "id": "dd069480-ecfd-442c-9d54-57cf8b9dc503",
        "outputId": "0032d3d2-3b88-4fdd-99d7-41267e5c60d4"
      },
      "outputs": [
        {
          "output_type": "execute_result",
          "data": {
            "text/plain": [
              "[10, 2, 'yuvraj', 2.4, ['a', 'b', 'c']]"
            ]
          },
          "metadata": {},
          "execution_count": 28
        }
      ],
      "source": [
        "list"
      ]
    },
    {
      "cell_type": "code",
      "execution_count": 29,
      "id": "24a2f4a0-f704-45f3-8ddf-2e6162059e8e",
      "metadata": {
        "colab": {
          "base_uri": "https://localhost:8080/",
          "height": 141
        },
        "id": "24a2f4a0-f704-45f3-8ddf-2e6162059e8e",
        "outputId": "41dee9fc-62bd-40c8-b1c5-a423dfd6339c"
      },
      "outputs": [
        {
          "output_type": "error",
          "ename": "TypeError",
          "evalue": "'tuple' object does not support item assignment",
          "traceback": [
            "\u001b[0;31m---------------------------------------------------------------------------\u001b[0m",
            "\u001b[0;31mTypeError\u001b[0m                                 Traceback (most recent call last)",
            "\u001b[0;32m/tmp/ipython-input-29-4285573864.py\u001b[0m in \u001b[0;36m<cell line: 0>\u001b[0;34m()\u001b[0m\n\u001b[0;32m----> 1\u001b[0;31m \u001b[0mtuple\u001b[0m\u001b[0;34m[\u001b[0m\u001b[0;36m0\u001b[0m\u001b[0;34m]\u001b[0m\u001b[0;34m=\u001b[0m\u001b[0;36m10\u001b[0m\u001b[0;34m\u001b[0m\u001b[0;34m\u001b[0m\u001b[0m\n\u001b[0m",
            "\u001b[0;31mTypeError\u001b[0m: 'tuple' object does not support item assignment"
          ]
        }
      ],
      "source": [
        "tuple[0]=10"
      ]
    },
    {
      "cell_type": "code",
      "execution_count": 30,
      "id": "d11c8e4d-58e6-466b-8ca3-b6c49e9259ed",
      "metadata": {
        "colab": {
          "base_uri": "https://localhost:8080/",
          "height": 141
        },
        "id": "d11c8e4d-58e6-466b-8ca3-b6c49e9259ed",
        "outputId": "f4b9f0fd-2364-4b9f-d3a1-ca094d27a789"
      },
      "outputs": [
        {
          "output_type": "error",
          "ename": "TypeError",
          "evalue": "'set' object does not support item assignment",
          "traceback": [
            "\u001b[0;31m---------------------------------------------------------------------------\u001b[0m",
            "\u001b[0;31mTypeError\u001b[0m                                 Traceback (most recent call last)",
            "\u001b[0;32m/tmp/ipython-input-30-1994342417.py\u001b[0m in \u001b[0;36m<cell line: 0>\u001b[0;34m()\u001b[0m\n\u001b[0;32m----> 1\u001b[0;31m \u001b[0mset\u001b[0m\u001b[0;34m[\u001b[0m\u001b[0;36m0\u001b[0m\u001b[0;34m]\u001b[0m\u001b[0;34m=\u001b[0m\u001b[0;36m10\u001b[0m\u001b[0;34m\u001b[0m\u001b[0;34m\u001b[0m\u001b[0m\n\u001b[0m",
            "\u001b[0;31mTypeError\u001b[0m: 'set' object does not support item assignment"
          ]
        }
      ],
      "source": [
        "set[0]=10"
      ]
    },
    {
      "cell_type": "code",
      "execution_count": 31,
      "id": "2548bb0a-9b2c-41a5-b2b7-06dc2020ffd6",
      "metadata": {
        "id": "2548bb0a-9b2c-41a5-b2b7-06dc2020ffd6"
      },
      "outputs": [],
      "source": [
        "dict['up']=2"
      ]
    },
    {
      "cell_type": "code",
      "execution_count": 32,
      "id": "ddedd8ff-9614-4083-b05a-3303257c11bd",
      "metadata": {
        "colab": {
          "base_uri": "https://localhost:8080/"
        },
        "id": "ddedd8ff-9614-4083-b05a-3303257c11bd",
        "outputId": "ee2d687c-d160-4118-d21c-4f9563a66688"
      },
      "outputs": [
        {
          "output_type": "execute_result",
          "data": {
            "text/plain": [
              "2"
            ]
          },
          "metadata": {},
          "execution_count": 32
        }
      ],
      "source": [
        "dict['up']"
      ]
    },
    {
      "cell_type": "markdown",
      "id": "764b1c41-6ea9-47d8-a43e-098138db0ba7",
      "metadata": {
        "id": "764b1c41-6ea9-47d8-a43e-098138db0ba7"
      },
      "source": [
        "#### Strings\n",
        "##### Strings are Arrays. Like many other popular programming languages, strings in Python are arrays of bytes representing unicode characters."
      ]
    },
    {
      "cell_type": "code",
      "execution_count": 35,
      "id": "ab833d4f-54cc-4ab4-ac87-16af5ce436d3",
      "metadata": {
        "id": "ab833d4f-54cc-4ab4-ac87-16af5ce436d3"
      },
      "outputs": [],
      "source": [
        "name= \"yuvraj\""
      ]
    },
    {
      "cell_type": "code",
      "execution_count": 36,
      "id": "e9a713d4-67d1-41e6-8dee-c76c4cd8d5fd",
      "metadata": {
        "colab": {
          "base_uri": "https://localhost:8080/",
          "height": 36
        },
        "id": "e9a713d4-67d1-41e6-8dee-c76c4cd8d5fd",
        "outputId": "22e4a1dd-059f-400e-e78c-f690f34cdfa7"
      },
      "outputs": [
        {
          "output_type": "execute_result",
          "data": {
            "text/plain": [
              "'y'"
            ],
            "application/vnd.google.colaboratory.intrinsic+json": {
              "type": "string"
            }
          },
          "metadata": {},
          "execution_count": 36
        }
      ],
      "source": [
        "name[0] # 0 index is the first element of the string"
      ]
    },
    {
      "cell_type": "code",
      "execution_count": 37,
      "id": "3ac22fd2-5dae-479f-9344-0887a373d245",
      "metadata": {
        "colab": {
          "base_uri": "https://localhost:8080/"
        },
        "id": "3ac22fd2-5dae-479f-9344-0887a373d245",
        "outputId": "143ea632-4f19-4939-b480-4ed15f70a054"
      },
      "outputs": [
        {
          "output_type": "execute_result",
          "data": {
            "text/plain": [
              "6"
            ]
          },
          "metadata": {},
          "execution_count": 37
        }
      ],
      "source": [
        "len(name)"
      ]
    },
    {
      "cell_type": "code",
      "execution_count": 38,
      "id": "cee8b017-37c9-48cb-a7fe-712d69d962c5",
      "metadata": {
        "colab": {
          "base_uri": "https://localhost:8080/",
          "height": 36
        },
        "id": "cee8b017-37c9-48cb-a7fe-712d69d962c5",
        "outputId": "df1b4f73-c22d-4491-ac6d-93bff46a5719"
      },
      "outputs": [
        {
          "output_type": "execute_result",
          "data": {
            "text/plain": [
              "'a'"
            ],
            "application/vnd.google.colaboratory.intrinsic+json": {
              "type": "string"
            }
          },
          "metadata": {},
          "execution_count": 38
        }
      ],
      "source": [
        "name[-2]"
      ]
    },
    {
      "cell_type": "code",
      "execution_count": 40,
      "id": "640b3cd6-bb77-4b2f-a92b-ca266b6fe9c0",
      "metadata": {
        "id": "640b3cd6-bb77-4b2f-a92b-ca266b6fe9c0"
      },
      "outputs": [],
      "source": [
        "multi_line_string= '''this is line 1\n",
        "                    this is line 2\n",
        "                    this is line 3'''"
      ]
    },
    {
      "cell_type": "code",
      "execution_count": 41,
      "id": "4f1da1fd-754b-4cb4-a3dd-970163af25c6",
      "metadata": {
        "colab": {
          "base_uri": "https://localhost:8080/"
        },
        "id": "4f1da1fd-754b-4cb4-a3dd-970163af25c6",
        "outputId": "04c881c7-b76f-4d18-9387-e624d5a2c27d"
      },
      "outputs": [
        {
          "output_type": "stream",
          "name": "stdout",
          "text": [
            "this is line 1\n",
            "                    this is line 2\n",
            "                    this is line 3\n"
          ]
        }
      ],
      "source": [
        "print(multi_line_string)"
      ]
    },
    {
      "cell_type": "code",
      "execution_count": 42,
      "id": "dfa1d2c3-3399-4a1e-a919-c467e8e0c59c",
      "metadata": {
        "colab": {
          "base_uri": "https://localhost:8080/"
        },
        "id": "dfa1d2c3-3399-4a1e-a919-c467e8e0c59c",
        "outputId": "c691b1fb-1575-47f2-e9e5-09ec4a624ee3"
      },
      "outputs": [
        {
          "output_type": "stream",
          "name": "stdout",
          "text": [
            "Hot\n",
            "Cold\n"
          ]
        }
      ],
      "source": [
        "print(\"Hot\\nCold\")"
      ]
    },
    {
      "cell_type": "code",
      "execution_count": 43,
      "id": "b7a3e7a0-92da-4888-b539-34db6277b457",
      "metadata": {
        "colab": {
          "base_uri": "https://localhost:8080/"
        },
        "id": "b7a3e7a0-92da-4888-b539-34db6277b457",
        "outputId": "b131bb41-a69c-47d5-9ff4-dabab0438a70"
      },
      "outputs": [
        {
          "output_type": "stream",
          "name": "stdout",
          "text": [
            "Hot\tCold\n"
          ]
        }
      ],
      "source": [
        "print(\"Hot\\tCold\")"
      ]
    },
    {
      "cell_type": "code",
      "execution_count": 44,
      "id": "4314306d-9018-4b05-a81c-9b74884c9a9e",
      "metadata": {
        "colab": {
          "base_uri": "https://localhost:8080/",
          "height": 141
        },
        "id": "4314306d-9018-4b05-a81c-9b74884c9a9e",
        "outputId": "f7557883-7daa-4261-c27f-5e77fa6d0b1f"
      },
      "outputs": [
        {
          "output_type": "error",
          "ename": "TypeError",
          "evalue": "'str' object does not support item assignment",
          "traceback": [
            "\u001b[0;31m---------------------------------------------------------------------------\u001b[0m",
            "\u001b[0;31mTypeError\u001b[0m                                 Traceback (most recent call last)",
            "\u001b[0;32m/tmp/ipython-input-44-3815826429.py\u001b[0m in \u001b[0;36m<cell line: 0>\u001b[0;34m()\u001b[0m\n\u001b[0;32m----> 1\u001b[0;31m \u001b[0mname\u001b[0m\u001b[0;34m[\u001b[0m\u001b[0;36m0\u001b[0m\u001b[0;34m]\u001b[0m\u001b[0;34m=\u001b[0m\u001b[0;34m'h'\u001b[0m\u001b[0;34m\u001b[0m\u001b[0;34m\u001b[0m\u001b[0m\n\u001b[0m",
            "\u001b[0;31mTypeError\u001b[0m: 'str' object does not support item assignment"
          ]
        }
      ],
      "source": [
        "name[0]='h'"
      ]
    },
    {
      "cell_type": "markdown",
      "id": "233f6a5b-4e7f-4fe9-945d-69584f23527e",
      "metadata": {
        "id": "233f6a5b-4e7f-4fe9-945d-69584f23527e"
      },
      "source": [
        "#### Traversing a string"
      ]
    },
    {
      "cell_type": "code",
      "execution_count": null,
      "id": "356e234b-8722-4bb3-ae91-4af9f8f72158",
      "metadata": {
        "id": "356e234b-8722-4bb3-ae91-4af9f8f72158",
        "outputId": "b1e04a31-92c3-4b3e-e346-b349f24a57e1"
      },
      "outputs": [
        {
          "name": "stdout",
          "output_type": "stream",
          "text": [
            "y\n",
            "u\n",
            "v\n",
            "r\n",
            "a\n",
            "j\n"
          ]
        }
      ],
      "source": [
        "for i in name:\n",
        "    print(i)"
      ]
    },
    {
      "cell_type": "code",
      "execution_count": 45,
      "id": "0e5e5694-5a7d-49f8-965f-5a2c1c490920",
      "metadata": {
        "colab": {
          "base_uri": "https://localhost:8080/",
          "height": 36
        },
        "id": "0e5e5694-5a7d-49f8-965f-5a2c1c490920",
        "outputId": "2b08f9b1-5d9e-4c28-d979-16dfa0bd9adb"
      },
      "outputs": [
        {
          "output_type": "execute_result",
          "data": {
            "text/plain": [
              "'save Earth day'"
            ],
            "application/vnd.google.colaboratory.intrinsic+json": {
              "type": "string"
            }
          },
          "metadata": {},
          "execution_count": 45
        }
      ],
      "source": [
        "'save'+' Earth'+' day'"
      ]
    },
    {
      "cell_type": "code",
      "execution_count": 47,
      "id": "552e15ae-5c70-4ac7-92af-c52925bea571",
      "metadata": {
        "colab": {
          "base_uri": "https://localhost:8080/"
        },
        "id": "552e15ae-5c70-4ac7-92af-c52925bea571",
        "outputId": "b226b5c0-cc88-4503-c442-d18e2ad58202"
      },
      "outputs": [
        {
          "output_type": "stream",
          "name": "stdout",
          "text": [
            "\n",
            " hello\n",
            " hello\n",
            " hello\n"
          ]
        }
      ],
      "source": [
        "print(3*\"\\n hello\") #repitition"
      ]
    },
    {
      "cell_type": "code",
      "execution_count": 49,
      "id": "d1420854-f099-4661-a5ef-70c3b07bc2c3",
      "metadata": {
        "colab": {
          "base_uri": "https://localhost:8080/"
        },
        "id": "d1420854-f099-4661-a5ef-70c3b07bc2c3",
        "outputId": "6d1c9c3a-5e76-4d28-c734-6ff9f4bf7d12"
      },
      "outputs": [
        {
          "output_type": "stream",
          "name": "stdout",
          "text": [
            "hello world\n",
            "hello world\n",
            "hello world\n",
            "hello world\n",
            "hello world\n"
          ]
        }
      ],
      "source": [
        "for i in range(5):\n",
        "    print(\"hello world\")"
      ]
    },
    {
      "cell_type": "code",
      "execution_count": 50,
      "id": "82880086-98f7-4905-89b8-fe2bedf61988",
      "metadata": {
        "colab": {
          "base_uri": "https://localhost:8080/",
          "height": 106
        },
        "id": "82880086-98f7-4905-89b8-fe2bedf61988",
        "outputId": "d355673d-b1e3-483f-9a25-c7cea051b6e5"
      },
      "outputs": [
        {
          "output_type": "error",
          "ename": "SyntaxError",
          "evalue": "invalid syntax (ipython-input-50-208485329.py, line 1)",
          "traceback": [
            "\u001b[0;36m  File \u001b[0;32m\"/tmp/ipython-input-50-208485329.py\"\u001b[0;36m, line \u001b[0;32m1\u001b[0m\n\u001b[0;31m    lambda=3\u001b[0m\n\u001b[0m          ^\u001b[0m\n\u001b[0;31mSyntaxError\u001b[0m\u001b[0;31m:\u001b[0m invalid syntax\n"
          ]
        }
      ],
      "source": [
        "lambda=3"
      ]
    },
    {
      "cell_type": "code",
      "execution_count": 51,
      "id": "1b1e1d93-58c1-40cd-baf2-112a69a160f9",
      "metadata": {
        "colab": {
          "base_uri": "https://localhost:8080/",
          "height": 106
        },
        "id": "1b1e1d93-58c1-40cd-baf2-112a69a160f9",
        "outputId": "53ece2c3-f653-45c1-9692-a081f0ed91dc"
      },
      "outputs": [
        {
          "output_type": "error",
          "ename": "SyntaxError",
          "evalue": "invalid syntax (ipython-input-51-879097777.py, line 1)",
          "traceback": [
            "\u001b[0;36m  File \u001b[0;32m\"/tmp/ipython-input-51-879097777.py\"\u001b[0;36m, line \u001b[0;32m1\u001b[0m\n\u001b[0;31m    for=3\u001b[0m\n\u001b[0m       ^\u001b[0m\n\u001b[0;31mSyntaxError\u001b[0m\u001b[0;31m:\u001b[0m invalid syntax\n"
          ]
        }
      ],
      "source": [
        "for=3"
      ]
    },
    {
      "cell_type": "code",
      "execution_count": null,
      "id": "fadeff5c-5b18-4943-80e8-490df461fe75",
      "metadata": {
        "id": "fadeff5c-5b18-4943-80e8-490df461fe75",
        "outputId": "65703153-212d-4dc7-fd31-5603ec090e25"
      },
      "outputs": [
        {
          "name": "stdout",
          "output_type": "stream",
          "text": [
            "False\n"
          ]
        }
      ],
      "source": []
    },
    {
      "cell_type": "markdown",
      "id": "c9f7c67a-6685-4379-b176-82965f151be5",
      "metadata": {
        "id": "c9f7c67a-6685-4379-b176-82965f151be5"
      },
      "source": [
        "#### Membership operator\n",
        "##### In Python, in and not in are the membership operators that are used to test whether a value or variable is in a sequence.\n",
        "       "
      ]
    },
    {
      "cell_type": "code",
      "execution_count": 54,
      "id": "855650a8-6bec-4b67-af49-65ef5d290068",
      "metadata": {
        "colab": {
          "base_uri": "https://localhost:8080/"
        },
        "id": "855650a8-6bec-4b67-af49-65ef5d290068",
        "outputId": "3072cf68-73b0-415c-99fa-f9be8503f886"
      },
      "outputs": [
        {
          "output_type": "stream",
          "name": "stdout",
          "text": [
            "True\n"
          ]
        }
      ],
      "source": [
        "A= \"Save Earth\"  #True if value is found in the sequence\n",
        "print(\"Save \" in A) #True if value is not found in the sequence"
      ]
    },
    {
      "cell_type": "code",
      "execution_count": 55,
      "id": "5596b9ac-8cf0-4eb2-8f4c-1bf4b09c656d",
      "metadata": {
        "colab": {
          "base_uri": "https://localhost:8080/"
        },
        "id": "5596b9ac-8cf0-4eb2-8f4c-1bf4b09c656d",
        "outputId": "cca0d1fc-ef64-4724-a439-9ab39dcbe56c"
      },
      "outputs": [
        {
          "output_type": "execute_result",
          "data": {
            "text/plain": [
              "False"
            ]
          },
          "metadata": {},
          "execution_count": 55
        }
      ],
      "source": [
        "\"Save\" not in A"
      ]
    },
    {
      "cell_type": "markdown",
      "id": "a047d5aa-1f9c-4057-ab40-eadc16601877",
      "metadata": {
        "id": "a047d5aa-1f9c-4057-ab40-eadc16601877"
      },
      "source": [
        "#### range() function\n",
        "###### The range() function in Python generates a sequence of numbers. It is commonly used in loops to iterate a specific number of times or to access elements in a sequence using their indices."
      ]
    },
    {
      "cell_type": "code",
      "execution_count": 59,
      "id": "b77f5794-21a7-41f8-886c-cd48e07157c6",
      "metadata": {
        "colab": {
          "base_uri": "https://localhost:8080/"
        },
        "id": "b77f5794-21a7-41f8-886c-cd48e07157c6",
        "outputId": "e13a5001-76fd-4a0d-fc8a-453efa0ebd33"
      },
      "outputs": [
        {
          "output_type": "stream",
          "name": "stdout",
          "text": [
            "S\n",
            "a\n"
          ]
        }
      ],
      "source": [
        "for i in range(2):  # range(start, end,step )\n",
        "    print(A[i])"
      ]
    },
    {
      "cell_type": "markdown",
      "id": "3a056806-dd99-48fe-96b8-ab5e331d12ba",
      "metadata": {
        "id": "3a056806-dd99-48fe-96b8-ab5e331d12ba"
      },
      "source": [
        "#### Slicing\n",
        "###### Slicing in Python is a powerful technique for extracting portions of sequences like strings, lists, and tuples. It uses the bracket notation [start:end:step] to specify the desired section."
      ]
    },
    {
      "cell_type": "code",
      "execution_count": 63,
      "id": "66b611a0-0ede-4e41-a525-664611757f70",
      "metadata": {
        "colab": {
          "base_uri": "https://localhost:8080/",
          "height": 36
        },
        "id": "66b611a0-0ede-4e41-a525-664611757f70",
        "outputId": "04df78db-47e1-4501-a53d-86f61e0376e9"
      },
      "outputs": [
        {
          "output_type": "execute_result",
          "data": {
            "text/plain": [
              "'ve Ea'"
            ],
            "application/vnd.google.colaboratory.intrinsic+json": {
              "type": "string"
            }
          },
          "metadata": {},
          "execution_count": 63
        }
      ],
      "source": [
        "# A= \"Save Earth\"\n",
        "A[2:7] # start, end"
      ]
    },
    {
      "cell_type": "code",
      "execution_count": 65,
      "id": "1ab974f4-3d98-4615-9fa7-986196439f35",
      "metadata": {
        "colab": {
          "base_uri": "https://localhost:8080/",
          "height": 36
        },
        "id": "1ab974f4-3d98-4615-9fa7-986196439f35",
        "outputId": "09ef337f-00b2-46cc-ed31-c9ebe166c694"
      },
      "outputs": [
        {
          "output_type": "execute_result",
          "data": {
            "text/plain": [
              "'vE'"
            ],
            "application/vnd.google.colaboratory.intrinsic+json": {
              "type": "string"
            }
          },
          "metadata": {},
          "execution_count": 65
        }
      ],
      "source": [
        "A[2:7:3] # start, end , step"
      ]
    },
    {
      "cell_type": "code",
      "execution_count": null,
      "id": "a6ca7a13-ab1d-4792-8fa5-dcf98096268d",
      "metadata": {
        "id": "a6ca7a13-ab1d-4792-8fa5-dcf98096268d",
        "outputId": "8c88aceb-ced4-4545-a04c-301ec55e11f6"
      },
      "outputs": [
        {
          "data": {
            "text/plain": [
              "'e Earth'"
            ]
          },
          "execution_count": 166,
          "metadata": {},
          "output_type": "execute_result"
        }
      ],
      "source": [
        "# Save Earth\n",
        "A[3:]  # end value is length of the variable which is 10"
      ]
    },
    {
      "cell_type": "code",
      "execution_count": 66,
      "id": "88a9a410-7f79-44b3-8b94-82a20112384f",
      "metadata": {
        "colab": {
          "base_uri": "https://localhost:8080/",
          "height": 36
        },
        "id": "88a9a410-7f79-44b3-8b94-82a20112384f",
        "outputId": "332cad2e-11d0-4197-fccd-02ab57fd1a4b"
      },
      "outputs": [
        {
          "output_type": "execute_result",
          "data": {
            "text/plain": [
              "'Sav'"
            ],
            "application/vnd.google.colaboratory.intrinsic+json": {
              "type": "string"
            }
          },
          "metadata": {},
          "execution_count": 66
        }
      ],
      "source": [
        "# A= \"Save Earth\"\n",
        "A[:3]"
      ]
    },
    {
      "cell_type": "code",
      "execution_count": 67,
      "id": "d0e91497-3acf-4548-b0b9-299f19a8ba47",
      "metadata": {
        "colab": {
          "base_uri": "https://localhost:8080/",
          "height": 36
        },
        "id": "d0e91497-3acf-4548-b0b9-299f19a8ba47",
        "outputId": "65a2fd01-3112-4005-e77f-16a18836140a"
      },
      "outputs": [
        {
          "output_type": "execute_result",
          "data": {
            "text/plain": [
              "'th'"
            ],
            "application/vnd.google.colaboratory.intrinsic+json": {
              "type": "string"
            }
          },
          "metadata": {},
          "execution_count": 67
        }
      ],
      "source": [
        "A[-2:]"
      ]
    },
    {
      "cell_type": "code",
      "execution_count": 68,
      "id": "56becf8f-c558-4e4a-b643-71ee42468f54",
      "metadata": {
        "colab": {
          "base_uri": "https://localhost:8080/",
          "height": 36
        },
        "id": "56becf8f-c558-4e4a-b643-71ee42468f54",
        "outputId": "e3c5f070-74f7-4a7f-cf7d-12a049a0ad1f"
      },
      "outputs": [
        {
          "output_type": "execute_result",
          "data": {
            "text/plain": [
              "'Save Ear'"
            ],
            "application/vnd.google.colaboratory.intrinsic+json": {
              "type": "string"
            }
          },
          "metadata": {},
          "execution_count": 68
        }
      ],
      "source": [
        "A[:-2]"
      ]
    },
    {
      "cell_type": "code",
      "execution_count": null,
      "id": "801798d2-6a7e-4e6d-b6b5-a41852078eed",
      "metadata": {
        "id": "801798d2-6a7e-4e6d-b6b5-a41852078eed",
        "outputId": "3fbf341d-0596-414a-c835-98d3d259ba0d"
      },
      "outputs": [
        {
          "data": {
            "text/plain": [
              "'htraE evaS'"
            ]
          },
          "execution_count": 48,
          "metadata": {},
          "output_type": "execute_result"
        }
      ],
      "source": [
        "A[::-1]"
      ]
    },
    {
      "cell_type": "markdown",
      "id": "7b9aa86f-1a5e-41e2-affe-91fe28675654",
      "metadata": {
        "id": "7b9aa86f-1a5e-41e2-affe-91fe28675654"
      },
      "source": [
        "#### len()\n",
        "###### The len() function in Python is a built-in function used to determine the length of an object. It returns an integer representing the number of items in the object."
      ]
    },
    {
      "cell_type": "code",
      "execution_count": null,
      "id": "73f8e793-36e5-4bae-8ced-dd0a5b3c324e",
      "metadata": {
        "id": "73f8e793-36e5-4bae-8ced-dd0a5b3c324e"
      },
      "outputs": [],
      "source": [
        "A= \"Save Earth\""
      ]
    },
    {
      "cell_type": "code",
      "execution_count": null,
      "id": "235e83e5-daa1-42d4-b753-1c6ad546527f",
      "metadata": {
        "id": "235e83e5-daa1-42d4-b753-1c6ad546527f",
        "outputId": "e7a6ec6c-9dc0-4308-f9b8-c91320b23d74"
      },
      "outputs": [
        {
          "data": {
            "text/plain": [
              "10"
            ]
          },
          "execution_count": 9,
          "metadata": {},
          "output_type": "execute_result"
        }
      ],
      "source": [
        "len(A)     # output: 10"
      ]
    },
    {
      "cell_type": "code",
      "execution_count": null,
      "id": "aaee4532-ef34-47a0-9bff-acb942bfaa06",
      "metadata": {
        "id": "aaee4532-ef34-47a0-9bff-acb942bfaa06",
        "outputId": "ab8f70bf-9744-4cdf-e40c-9204746077d3"
      },
      "outputs": [
        {
          "data": {
            "text/plain": [
              "'Save earth'"
            ]
          },
          "execution_count": 13,
          "metadata": {},
          "output_type": "execute_result"
        }
      ],
      "source": [
        "A.capitalize()    # output: Save earth"
      ]
    },
    {
      "cell_type": "code",
      "execution_count": null,
      "id": "0fbfde69-f2cd-4dc7-aa3a-611963cde5e0",
      "metadata": {
        "scrolled": true,
        "id": "0fbfde69-f2cd-4dc7-aa3a-611963cde5e0",
        "outputId": "e2bece01-eb92-4ae9-99d5-d71bed21db1f"
      },
      "outputs": [
        {
          "data": {
            "text/plain": [
              "5"
            ]
          },
          "execution_count": 52,
          "metadata": {},
          "output_type": "execute_result"
        }
      ],
      "source": [
        "A.find('E') # output:3"
      ]
    },
    {
      "cell_type": "code",
      "execution_count": null,
      "id": "34311aad-5bff-4735-a6a1-3ee3a9d0f802",
      "metadata": {
        "id": "34311aad-5bff-4735-a6a1-3ee3a9d0f802",
        "outputId": "309c6a7f-bb04-436d-be7a-1e9e9937d945"
      },
      "outputs": [
        {
          "data": {
            "text/plain": [
              "-1"
            ]
          },
          "execution_count": 50,
          "metadata": {},
          "output_type": "execute_result"
        }
      ],
      "source": [
        "A.find('e',4) # output: 5"
      ]
    },
    {
      "cell_type": "code",
      "execution_count": null,
      "id": "fe627173-0ea2-4540-960c-ad4429241049",
      "metadata": {
        "id": "fe627173-0ea2-4540-960c-ad4429241049",
        "outputId": "d7885f1f-a613-471c-89a9-4fb128ed7f91"
      },
      "outputs": [
        {
          "data": {
            "text/plain": [
              "6"
            ]
          },
          "execution_count": 23,
          "metadata": {},
          "output_type": "execute_result"
        }
      ],
      "source": [
        "A.find('a', 3,7)"
      ]
    },
    {
      "cell_type": "code",
      "execution_count": null,
      "id": "fd2b0f68-dbac-4a0d-8805-c242307811c5",
      "metadata": {
        "id": "fd2b0f68-dbac-4a0d-8805-c242307811c5",
        "outputId": "4f7a9f74-e907-46f7-cec5-4d695e287d21"
      },
      "outputs": [
        {
          "data": {
            "text/plain": [
              "False"
            ]
          },
          "execution_count": 25,
          "metadata": {},
          "output_type": "execute_result"
        }
      ],
      "source": [
        "# Save Earth\n",
        "A.isalnum() # it will print true if it contains both alphabet and digit"
      ]
    },
    {
      "cell_type": "code",
      "execution_count": null,
      "id": "cb080bbe-ba63-4fa9-b567-8d92a3b2159a",
      "metadata": {
        "id": "cb080bbe-ba63-4fa9-b567-8d92a3b2159a",
        "outputId": "ff30d5c1-7178-462f-fbd6-2b954fa23efb"
      },
      "outputs": [
        {
          "data": {
            "text/plain": [
              "False"
            ]
          },
          "execution_count": 27,
          "metadata": {},
          "output_type": "execute_result"
        }
      ],
      "source": [
        "# Save Earth\n",
        "A.isdigit()"
      ]
    },
    {
      "cell_type": "code",
      "execution_count": null,
      "id": "26a16777-9e05-4f9c-a798-2366b7aca683",
      "metadata": {
        "id": "26a16777-9e05-4f9c-a798-2366b7aca683",
        "outputId": "08d18612-fd46-4107-cfa3-402bd8aecd1a"
      },
      "outputs": [
        {
          "data": {
            "text/plain": [
              "False"
            ]
          },
          "execution_count": 29,
          "metadata": {},
          "output_type": "execute_result"
        }
      ],
      "source": [
        "A.islower() # it will print true if string is in lowercase"
      ]
    },
    {
      "cell_type": "code",
      "execution_count": null,
      "id": "e3fd9401-a793-4ae6-9625-0a043010c9ee",
      "metadata": {
        "id": "e3fd9401-a793-4ae6-9625-0a043010c9ee",
        "outputId": "2fea0dcb-cbb8-4e9d-cc54-4a7a18713d01"
      },
      "outputs": [
        {
          "data": {
            "text/plain": [
              "False"
            ]
          },
          "execution_count": 31,
          "metadata": {},
          "output_type": "execute_result"
        }
      ],
      "source": [
        "A.isupper() # it will print true if string is in uppercase"
      ]
    },
    {
      "cell_type": "code",
      "execution_count": null,
      "id": "0ae3dadd-dc20-482c-9ac9-d2a9c76fba1b",
      "metadata": {
        "id": "0ae3dadd-dc20-482c-9ac9-d2a9c76fba1b",
        "outputId": "ee5aa5f3-9b0e-447c-a83c-560abe60cdcb"
      },
      "outputs": [
        {
          "data": {
            "text/plain": [
              "'save earth'"
            ]
          },
          "execution_count": 33,
          "metadata": {},
          "output_type": "execute_result"
        }
      ],
      "source": [
        "A.lower() # it convert the string into lowercase"
      ]
    },
    {
      "cell_type": "code",
      "execution_count": null,
      "id": "090a375e-7153-4473-92c1-2d013aaca15d",
      "metadata": {
        "id": "090a375e-7153-4473-92c1-2d013aaca15d",
        "outputId": "ced754d1-5256-4ae1-8961-f298f05fcf4b"
      },
      "outputs": [
        {
          "data": {
            "text/plain": [
              "'SAVE EARTH'"
            ]
          },
          "execution_count": 35,
          "metadata": {},
          "output_type": "execute_result"
        }
      ],
      "source": [
        "A.upper() # it convert the string into uppercae"
      ]
    },
    {
      "cell_type": "markdown",
      "id": "83b121f0-c28e-4609-ae97-7c0388dc969a",
      "metadata": {
        "id": "83b121f0-c28e-4609-ae97-7c0388dc969a"
      },
      "source": [
        "#### lstrip\n",
        "###### The lstrip() method in Python is used to remove leading characters from a string. It returns a new string with the specified characters removed from the beginning of the original string, without modifying the original string."
      ]
    },
    {
      "cell_type": "code",
      "execution_count": null,
      "id": "48996b3a-ab48-4582-a876-c39bf280ec44",
      "metadata": {
        "id": "48996b3a-ab48-4582-a876-c39bf280ec44"
      },
      "outputs": [],
      "source": [
        "# Save Earth\n",
        "b=A.lstrip()"
      ]
    },
    {
      "cell_type": "code",
      "execution_count": null,
      "id": "1e470d8c-7893-42a9-b58c-0b7e7c755c73",
      "metadata": {
        "id": "1e470d8c-7893-42a9-b58c-0b7e7c755c73",
        "outputId": "a06fc43d-717c-4213-f512-7ad2a8df3746"
      },
      "outputs": [
        {
          "data": {
            "text/plain": [
              "'Save Earth'"
            ]
          },
          "execution_count": 56,
          "metadata": {},
          "output_type": "execute_result"
        }
      ],
      "source": [
        "b"
      ]
    },
    {
      "cell_type": "code",
      "execution_count": null,
      "id": "7cd4d0b5-2f2a-479a-a280-9bef077c562e",
      "metadata": {
        "id": "7cd4d0b5-2f2a-479a-a280-9bef077c562e",
        "outputId": "b6b2f664-0102-4786-86a2-8fdb04a50c8b"
      },
      "outputs": [
        {
          "data": {
            "text/plain": [
              "'each India Movement'"
            ]
          },
          "execution_count": 61,
          "metadata": {},
          "output_type": "execute_result"
        }
      ],
      "source": [
        "B= 'Teach India Movement'\n",
        "B.lstrip('T')"
      ]
    },
    {
      "cell_type": "code",
      "execution_count": null,
      "id": "dc81e3fa-2773-48cc-8fda-95c1b038afbf",
      "metadata": {
        "id": "dc81e3fa-2773-48cc-8fda-95c1b038afbf",
        "outputId": "b707c63b-b821-4d69-c3d6-29a48ddf86bc"
      },
      "outputs": [
        {
          "data": {
            "text/plain": [
              "'Teach India Movement'"
            ]
          },
          "execution_count": 63,
          "metadata": {},
          "output_type": "execute_result"
        }
      ],
      "source": [
        "B"
      ]
    },
    {
      "cell_type": "code",
      "execution_count": null,
      "id": "52a2d7e8-1741-4e35-ab27-99e173953bd8",
      "metadata": {
        "id": "52a2d7e8-1741-4e35-ab27-99e173953bd8",
        "outputId": "d40c3b6d-4f0e-4fa8-f8d0-c72ce90351d2"
      },
      "outputs": [
        {
          "data": {
            "text/plain": [
              "'Teach India Movemen'"
            ]
          },
          "execution_count": 50,
          "metadata": {},
          "output_type": "execute_result"
        }
      ],
      "source": [
        "c= B.rstrip('t')"
      ]
    },
    {
      "cell_type": "code",
      "execution_count": null,
      "id": "b7cb5c10-7255-41df-86f2-a35854890ad5",
      "metadata": {
        "id": "b7cb5c10-7255-41df-86f2-a35854890ad5",
        "outputId": "5732ce22-20fe-48dd-d5cd-c491b4e06456"
      },
      "outputs": [
        {
          "data": {
            "text/plain": [
              "False"
            ]
          },
          "execution_count": 65,
          "metadata": {},
          "output_type": "execute_result"
        }
      ],
      "source": [
        "# Teach India Movement\n",
        "B.isspace() # it will print true if it have only white space otherwise false if it have one character"
      ]
    },
    {
      "cell_type": "code",
      "execution_count": null,
      "id": "16fb5fe6-ea3a-48ed-99ef-b91b963ccf47",
      "metadata": {
        "id": "16fb5fe6-ea3a-48ed-99ef-b91b963ccf47",
        "outputId": "5b0b9e54-b224-4457-930b-956d78f75ac1"
      },
      "outputs": [
        {
          "name": "stdout",
          "output_type": "stream",
          "text": [
            "Teach India Movement\n"
          ]
        }
      ],
      "source": [
        "print(B)"
      ]
    },
    {
      "cell_type": "code",
      "execution_count": null,
      "id": "377b9aa5-bca6-47a3-8827-bcbcf0aebbef",
      "metadata": {
        "id": "377b9aa5-bca6-47a3-8827-bcbcf0aebbef",
        "outputId": "72d4934e-b87b-460d-cad6-620d39bf9bd2"
      },
      "outputs": [
        {
          "data": {
            "text/plain": [
              "False"
            ]
          },
          "execution_count": 60,
          "metadata": {},
          "output_type": "execute_result"
        }
      ],
      "source": [
        "A.isspace() # it will print"
      ]
    },
    {
      "cell_type": "code",
      "execution_count": null,
      "id": "3640d363-b09a-451c-8ff9-13daa6dd7481",
      "metadata": {
        "id": "3640d363-b09a-451c-8ff9-13daa6dd7481",
        "outputId": "a2c1f92f-f595-48ee-8189-c00bfe65766e"
      },
      "outputs": [
        {
          "data": {
            "text/plain": [
              "True"
            ]
          },
          "execution_count": 67,
          "metadata": {},
          "output_type": "execute_result"
        }
      ],
      "source": [
        "# Teach India Movement\n",
        "B.istitle()"
      ]
    },
    {
      "cell_type": "code",
      "execution_count": null,
      "id": "151bd187-0efd-4deb-98b5-f3dfe2348b77",
      "metadata": {
        "id": "151bd187-0efd-4deb-98b5-f3dfe2348b77",
        "outputId": "64b26cdc-b7c6-47fa-94d8-0e253350fd2f"
      },
      "outputs": [
        {
          "data": {
            "text/plain": [
              "'Tech Indi Movement'"
            ]
          },
          "execution_count": 68,
          "metadata": {},
          "output_type": "execute_result"
        }
      ],
      "source": [
        "# Teach India Movement\n",
        "B.replace('a','')   # replace remove old charater with new character"
      ]
    },
    {
      "cell_type": "code",
      "execution_count": null,
      "id": "94e5625a-cc99-49f4-8c95-26bbcf1922d5",
      "metadata": {
        "id": "94e5625a-cc99-49f4-8c95-26bbcf1922d5",
        "outputId": "9ebd628e-4137-44a8-b515-4e5792bc1862"
      },
      "outputs": [
        {
          "data": {
            "text/plain": [
              "'Te$ch Indi$ Movement'"
            ]
          },
          "execution_count": 70,
          "metadata": {},
          "output_type": "execute_result"
        }
      ],
      "source": [
        "B.replace('a', '$')"
      ]
    },
    {
      "cell_type": "markdown",
      "id": "2c70d310-eb58-46ff-b66a-b8a56cabd12b",
      "metadata": {
        "id": "2c70d310-eb58-46ff-b66a-b8a56cabd12b"
      },
      "source": [
        "####"
      ]
    },
    {
      "cell_type": "markdown",
      "id": "8c04e278-d5e2-4a08-be67-dd8a7bd4468c",
      "metadata": {
        "id": "8c04e278-d5e2-4a08-be67-dd8a7bd4468c"
      },
      "source": [
        "#### join()\n",
        "###### 1) The join() method takes all items in an iterable and joins them into one string.\n",
        "###### 2) A string must be specified as the separator."
      ]
    },
    {
      "cell_type": "code",
      "execution_count": null,
      "id": "f1969d85-d590-4297-b518-9e3421aa7fe9",
      "metadata": {
        "id": "f1969d85-d590-4297-b518-9e3421aa7fe9"
      },
      "outputs": [],
      "source": [
        "tup = ('jan','feb','mar')\n",
        "d= '&'.join(tup)"
      ]
    },
    {
      "cell_type": "code",
      "execution_count": null,
      "id": "157045b0-bbfd-4acf-aa0c-8dba283773ec",
      "metadata": {
        "id": "157045b0-bbfd-4acf-aa0c-8dba283773ec",
        "outputId": "22b9403a-c15f-4907-953f-20ec009a57f0"
      },
      "outputs": [
        {
          "data": {
            "text/plain": [
              "'jan&feb&mar'"
            ]
          },
          "execution_count": 71,
          "metadata": {},
          "output_type": "execute_result"
        }
      ],
      "source": [
        "d"
      ]
    },
    {
      "cell_type": "code",
      "execution_count": null,
      "id": "dcc707ee-c510-4b22-b9c7-3be0e3fb2b8b",
      "metadata": {
        "id": "dcc707ee-c510-4b22-b9c7-3be0e3fb2b8b",
        "outputId": "e72ef4aa-943e-499d-aec7-25f1591e9c82"
      },
      "outputs": [
        {
          "data": {
            "text/plain": [
              "str"
            ]
          },
          "execution_count": 80,
          "metadata": {},
          "output_type": "execute_result"
        }
      ],
      "source": [
        "type(d)"
      ]
    },
    {
      "cell_type": "code",
      "execution_count": null,
      "id": "711f0266-3bef-4204-b992-c7867638a03b",
      "metadata": {
        "id": "711f0266-3bef-4204-b992-c7867638a03b",
        "outputId": "f0091573-c691-48da-a344-35a082626af3"
      },
      "outputs": [
        {
          "data": {
            "text/plain": [
              "'janfebmar'"
            ]
          },
          "execution_count": 84,
          "metadata": {},
          "output_type": "execute_result"
        }
      ],
      "source": [
        "d.replace('&','')"
      ]
    },
    {
      "cell_type": "code",
      "execution_count": null,
      "id": "f0f210a2-6aa1-489d-84d0-b39d912ad84b",
      "metadata": {
        "id": "f0f210a2-6aa1-489d-84d0-b39d912ad84b",
        "outputId": "0e18585e-ef44-4d9c-c416-dc752d2debf9"
      },
      "outputs": [
        {
          "data": {
            "text/plain": [
              "('jan', 'feb', 'mar')"
            ]
          },
          "execution_count": 86,
          "metadata": {},
          "output_type": "execute_result"
        }
      ],
      "source": [
        "tup"
      ]
    },
    {
      "cell_type": "code",
      "execution_count": null,
      "id": "66c9608d-50d3-4b8b-83dd-30fdd80b607e",
      "metadata": {
        "id": "66c9608d-50d3-4b8b-83dd-30fdd80b607e",
        "outputId": "1a4844d8-bf48-47c7-f34c-3f733e6b0c1c"
      },
      "outputs": [
        {
          "data": {
            "text/plain": [
              "'sAVE eARTH'"
            ]
          },
          "execution_count": 88,
          "metadata": {},
          "output_type": "execute_result"
        }
      ],
      "source": [
        "# Save Earth\n",
        "A.swapcase()   # it will swap all case in the string"
      ]
    },
    {
      "cell_type": "markdown",
      "id": "30f9e24a-cc34-4fc6-b4e5-857b18392aa5",
      "metadata": {
        "id": "30f9e24a-cc34-4fc6-b4e5-857b18392aa5"
      },
      "source": [
        "#### partition()\n",
        "###### The partition() method searches for a specified string, and splits the string into a tuple containing three elements.\n"
      ]
    },
    {
      "cell_type": "markdown",
      "id": "35125227-ee4c-4df8-916a-6d463456ca9f",
      "metadata": {
        "id": "35125227-ee4c-4df8-916a-6d463456ca9f"
      },
      "source": [
        "###### The first element contains the part before the specified string.\n",
        "###### The second element contains the specified string.\n",
        "###### The third element contains the part after the string."
      ]
    },
    {
      "cell_type": "code",
      "execution_count": null,
      "id": "6b045470-ad72-400f-8bff-08036cfcac54",
      "metadata": {
        "id": "6b045470-ad72-400f-8bff-08036cfcac54",
        "outputId": "c7983175-6397-4cb9-a412-46e4701b2bf9"
      },
      "outputs": [
        {
          "data": {
            "text/plain": [
              "('The ', 'G', 'reen Revolution')"
            ]
          },
          "execution_count": 96,
          "metadata": {},
          "output_type": "execute_result"
        }
      ],
      "source": [
        "E= 'The Green Revolution'\n",
        "E.partition('G')"
      ]
    },
    {
      "cell_type": "markdown",
      "id": "2688a554-5c41-4649-a5a0-75051e2617e5",
      "metadata": {
        "id": "2688a554-5c41-4649-a5a0-75051e2617e5"
      },
      "source": [
        "#### split()\n",
        "###### The split() method splits a string into a list.\n",
        "###### You can specify the separator, default separator is any whitespace."
      ]
    },
    {
      "cell_type": "code",
      "execution_count": null,
      "id": "11d96b84-8691-4197-bdcf-1d23650d6a63",
      "metadata": {
        "id": "11d96b84-8691-4197-bdcf-1d23650d6a63",
        "outputId": "3888d7e9-cb4c-4868-ca6b-c1363598323d"
      },
      "outputs": [
        {
          "data": {
            "text/plain": [
              "['The', 'Green', 'Revolution']"
            ]
          },
          "execution_count": 100,
          "metadata": {},
          "output_type": "execute_result"
        }
      ],
      "source": [
        "# The Green Revolution\n",
        "E.split() # by default seperator is whitespace"
      ]
    },
    {
      "cell_type": "code",
      "execution_count": null,
      "id": "f700bdc3-8acd-4f47-ab75-b3bb61cc6aff",
      "metadata": {
        "id": "f700bdc3-8acd-4f47-ab75-b3bb61cc6aff",
        "outputId": "43798cf0-58e3-4a50-9f9c-72487581aaea"
      },
      "outputs": [
        {
          "data": {
            "text/plain": [
              "['Th', ' Gr', '', 'n R', 'volution']"
            ]
          },
          "execution_count": 102,
          "metadata": {},
          "output_type": "execute_result"
        }
      ],
      "source": [
        "E.split('e')"
      ]
    },
    {
      "cell_type": "code",
      "execution_count": null,
      "id": "e38705d4-a8c5-4452-b876-6feb3539ae21",
      "metadata": {
        "id": "e38705d4-a8c5-4452-b876-6feb3539ae21",
        "outputId": "2d0c9063-5b4e-43fb-ed37-3430f53adbc3"
      },
      "outputs": [
        {
          "data": {
            "text/plain": [
              "'ABCDEFGHIJKLMNOPQRSTUVWXYZ'"
            ]
          },
          "execution_count": 112,
          "metadata": {},
          "output_type": "execute_result"
        }
      ],
      "source": [
        "import string\n",
        "string.ascii_uppercase"
      ]
    },
    {
      "cell_type": "code",
      "execution_count": null,
      "id": "61b2c2ca-de46-47ed-9f35-a8e45d45f0cc",
      "metadata": {
        "id": "61b2c2ca-de46-47ed-9f35-a8e45d45f0cc",
        "outputId": "63a86974-88cb-4f45-c0b8-37c99344697a"
      },
      "outputs": [
        {
          "name": "stdout",
          "output_type": "stream",
          "text": [
            "ABCDEFGHIJKLMNOPQRSTUVWXYZ\n"
          ]
        }
      ],
      "source": [
        "import string\n",
        "\n",
        "uppercase_letters = string.ascii_uppercase\n",
        "print(uppercase_letters) # Output: ABCDEFGHIJKLMNOPQRSTUVWXYZ"
      ]
    },
    {
      "cell_type": "markdown",
      "id": "a31559cc-b111-41ca-80a2-2ebc2767de45",
      "metadata": {
        "id": "a31559cc-b111-41ca-80a2-2ebc2767de45"
      },
      "source": [
        "##### print the grade of the student according to given marks\n",
        "###### grade A  if marks >85\n",
        "###### grade B  if marks >70 and marks<=85\n",
        "###### grade C  if marks >60 and marks<=70\n",
        "###### grade D  if marks >45 and marks<=60\n",
        "###### grade F  if marks<=45\n"
      ]
    },
    {
      "cell_type": "code",
      "execution_count": null,
      "id": "b3e27bba-a700-4e94-980e-974e37597787",
      "metadata": {
        "id": "b3e27bba-a700-4e94-980e-974e37597787",
        "outputId": "b09648ad-bca1-4b64-a0d0-62d04b551e64"
      },
      "outputs": [
        {
          "name": "stdin",
          "output_type": "stream",
          "text": [
            "Enter the number 85\n"
          ]
        },
        {
          "name": "stdout",
          "output_type": "stream",
          "text": [
            "Grade B\n"
          ]
        }
      ],
      "source": [
        "marks= int(input(\"Enter the number\"))\n",
        "\n",
        "if marks >85:\n",
        "    print(\"Grade A\")\n",
        "elif marks >=70 :\n",
        "    print(\"Grade B\")\n",
        "elif marks >=60 :\n",
        "    print(\"Grade C\")\n",
        "elif marks >=45 :\n",
        "    print(\"Grade D\")\n",
        "else:\n",
        "    print(\"Grade F\")"
      ]
    },
    {
      "cell_type": "markdown",
      "id": "926a0b64-92bf-440b-8c15-89041b7921a8",
      "metadata": {
        "id": "926a0b64-92bf-440b-8c15-89041b7921a8"
      },
      "source": [
        "#### Nested Condition()\n",
        "###### It is possible to have a condition within another condition. Such conditions are known as Nested Condition.\n"
      ]
    },
    {
      "cell_type": "code",
      "execution_count": null,
      "id": "61eaed3f-dbe4-4451-ae1e-114b139c3d5b",
      "metadata": {
        "id": "61eaed3f-dbe4-4451-ae1e-114b139c3d5b",
        "outputId": "1d30670d-92fd-4419-ceb8-3327784267ec"
      },
      "outputs": [
        {
          "name": "stdout",
          "output_type": "stream",
          "text": [
            "10  is equal to  10\n"
          ]
        }
      ],
      "source": [
        "x=10\n",
        "y=10\n",
        "if x==y:\n",
        "    print(x, \" is equal to \", y)\n",
        "else:\n",
        "    if x<y:\n",
        "        print(x, \" is less than \", y)\n",
        "    else:\n",
        "        print(x, \"is greater than \", y)\n",
        "\n",
        ""
      ]
    },
    {
      "cell_type": "markdown",
      "id": "cc03207d-2c92-4f71-8692-d0d17e83d023",
      "metadata": {
        "id": "cc03207d-2c92-4f71-8692-d0d17e83d023"
      },
      "source": [
        "#### loops\n",
        "###### Loops or Iteration Statements in Programming are helpful when we need a specific task in repetition.\n",
        "###### types of loop\n",
        "###### 1) for\n",
        "###### 2) while"
      ]
    },
    {
      "cell_type": "code",
      "execution_count": null,
      "id": "6cd41492-8532-4674-9bba-bf9c31811a35",
      "metadata": {
        "id": "6cd41492-8532-4674-9bba-bf9c31811a35",
        "outputId": "617e3dd2-0c94-482a-ae5a-b2c4156420b0"
      },
      "outputs": [
        {
          "name": "stdout",
          "output_type": "stream",
          "text": [
            "count is  0\n",
            "count is  1\n",
            "count is  2\n",
            "count is  3\n",
            "count is  4\n",
            "count is  5\n",
            "count is  6\n",
            "count is  7\n",
            "count is  8\n",
            "count is  9\n",
            "count is  10\n"
          ]
        }
      ],
      "source": [
        "count=0                         # output: 0 1 2 3 4 5 6 7 8 9 10\n",
        "while count<=10:\n",
        "    print(\"count is \", count)\n",
        "    count+=1"
      ]
    },
    {
      "cell_type": "code",
      "execution_count": null,
      "id": "771d07ac-fa5e-4566-8d84-cd8bfc1951bd",
      "metadata": {
        "id": "771d07ac-fa5e-4566-8d84-cd8bfc1951bd",
        "outputId": "a3b10702-b5f8-4c89-a93f-0d88ef19ab82"
      },
      "outputs": [
        {
          "name": "stdout",
          "output_type": "stream",
          "text": [
            "count is  0\n",
            "count is  1\n",
            "count is  2\n",
            "count is  3\n",
            "count is  4\n",
            "count is  5\n",
            "count is  6\n",
            "count is  7\n",
            "count is  8\n",
            "count is  9\n",
            "count is  10\n",
            "coming out of loop\n"
          ]
        }
      ],
      "source": [
        "count=0                         # output: 0 1 2 3 4 5 6 7 8 9 10\n",
        "while count<=10:\n",
        "    print(\"count is \", count)\n",
        "    count+=1\n",
        "else:\n",
        "    print(\"coming out of loop\")"
      ]
    },
    {
      "cell_type": "markdown",
      "id": "c0b86fb8-7829-4b5d-8734-69eec1c6baeb",
      "metadata": {
        "id": "c0b86fb8-7829-4b5d-8734-69eec1c6baeb"
      },
      "source": [
        "#### for loop\n",
        "###### A for loop is used for iterating over a sequence (that is either a list, a tuple, a dictionary, a set, or a string).\n",
        "\n",
        "###### This is less like the for keyword in other programming languages, and works more like an iterator method as found in other object-orientated programming languages.\n",
        "\n",
        "###### With the for loop we can execute a set of statements, once for each item in a list, tuple, set etc."
      ]
    },
    {
      "cell_type": "code",
      "execution_count": null,
      "id": "b04946d2-cdff-4cb1-b92d-2ece934a8e23",
      "metadata": {
        "id": "b04946d2-cdff-4cb1-b92d-2ece934a8e23",
        "outputId": "6f63fc7e-2e67-40da-f838-94f9fcd15219"
      },
      "outputs": [
        {
          "name": "stdout",
          "output_type": "stream",
          "text": [
            "1\n",
            "2\n",
            "3\n",
            "4\n",
            "5\n",
            "6\n",
            "7\n",
            "8\n",
            "9\n"
          ]
        }
      ],
      "source": [
        "for i in range(1,10): # start=1, end= 9 which is n-1\n",
        "    print(i)"
      ]
    },
    {
      "cell_type": "code",
      "execution_count": null,
      "id": "432c248b-3aa0-4780-b3fe-83875e28dae6",
      "metadata": {
        "id": "432c248b-3aa0-4780-b3fe-83875e28dae6",
        "outputId": "9be7a9c8-ef13-4f39-8586-161d68125674"
      },
      "outputs": [
        {
          "name": "stdout",
          "output_type": "stream",
          "text": [
            "P\n",
            "y\n",
            "t\n",
            "h\n",
            "o\n",
            "n\n"
          ]
        }
      ],
      "source": [
        "for i in 'Python':\n",
        "    print(i)"
      ]
    },
    {
      "cell_type": "markdown",
      "id": "d45d7f17-e6a1-4985-8577-a8b3a73bb2e4",
      "metadata": {
        "id": "d45d7f17-e6a1-4985-8577-a8b3a73bb2e4"
      },
      "source": [
        "##### nested loop\n",
        "###### A for statement can contain another for statement or while statement. Such statement form nested loop.!"
      ]
    },
    {
      "cell_type": "code",
      "execution_count": null,
      "id": "9e58abd9-44d4-4407-a9ad-cfb52fbdd9ab",
      "metadata": {
        "id": "9e58abd9-44d4-4407-a9ad-cfb52fbdd9ab",
        "outputId": "05c687e9-74db-4b63-9758-e8187ce82b9e"
      },
      "outputs": [
        {
          "name": "stdout",
          "output_type": "stream",
          "text": [
            "Table to  1 is as follows\n",
            "1 * 1 = 1\n",
            "\n",
            "1 * 2 = 2\n",
            "\n",
            "1 * 3 = 3\n",
            "\n",
            "1 * 4 = 4\n",
            "\n",
            "1 * 5 = 5\n",
            "\n",
            "Table to  2 is as follows\n",
            "2 * 1 = 2\n",
            "\n",
            "2 * 2 = 4\n",
            "\n",
            "2 * 3 = 6\n",
            "\n",
            "2 * 4 = 8\n",
            "\n",
            "2 * 5 = 10\n",
            "\n",
            "Table to  3 is as follows\n",
            "3 * 1 = 3\n",
            "\n",
            "3 * 2 = 6\n",
            "\n",
            "3 * 3 = 9\n",
            "\n",
            "3 * 4 = 12\n",
            "\n",
            "3 * 5 = 15\n",
            "\n",
            "Table to  4 is as follows\n",
            "4 * 1 = 4\n",
            "\n",
            "4 * 2 = 8\n",
            "\n",
            "4 * 3 = 12\n",
            "\n",
            "4 * 4 = 16\n",
            "\n",
            "4 * 5 = 20\n",
            "\n",
            "Table to  5 is as follows\n",
            "5 * 1 = 5\n",
            "\n",
            "5 * 2 = 10\n",
            "\n",
            "5 * 3 = 15\n",
            "\n",
            "5 * 4 = 20\n",
            "\n",
            "5 * 5 = 25\n",
            "\n"
          ]
        }
      ],
      "source": [
        "# to print table starting from 1 to specified no.\n",
        "n=2\n",
        "for i in range (1, 6):\n",
        "\tj=1\n",
        "\tprint (\"Table to \", i, \"is as follows\")\n",
        "\twhile j <6:\n",
        "\t\tprint (i, \"*\", j, \"=\", i*j)\n",
        "\t\tj=j+1\n",
        "\t\tprint()\n"
      ]
    },
    {
      "cell_type": "markdown",
      "id": "2647f58f-7f31-43ce-8e34-a0ca04fcbb36",
      "metadata": {
        "id": "2647f58f-7f31-43ce-8e34-a0ca04fcbb36"
      },
      "source": [
        "###### Break can be used to unconditionally jump out of the loop. It terminates the execution of the loop. Break can be used in while loop and for loop. Break is mostly required, when because of some external condition, we need to exit from a loop.\n"
      ]
    },
    {
      "cell_type": "code",
      "execution_count": null,
      "id": "e484a863-d688-4a48-b2fa-094cffdf49d3",
      "metadata": {
        "id": "e484a863-d688-4a48-b2fa-094cffdf49d3",
        "outputId": "ad8a54bd-c290-4486-8c03-5b7693cca4f1"
      },
      "outputs": [
        {
          "name": "stdout",
          "output_type": "stream",
          "text": [
            "P\n",
            "y\n",
            "t\n"
          ]
        }
      ],
      "source": [
        "for letter in 'Python':\n",
        "\tif letter == 'h':\n",
        "\t\tbreak\n",
        "\tprint(letter)"
      ]
    },
    {
      "cell_type": "markdown",
      "id": "535e1882-a332-44c7-a54d-24332006c9c0",
      "metadata": {
        "id": "535e1882-a332-44c7-a54d-24332006c9c0"
      },
      "source": [
        "##### Continue Statement\n",
        "###### This statement is used to tell Python to skip the rest of the statements of the current loop block and to move to next iteration, of the loop. Continue will return back the control to the start of the loop. This can also be used with both while and for statement"
      ]
    },
    {
      "cell_type": "code",
      "execution_count": null,
      "id": "fdcb67e0-c19d-4731-a324-27d47300c615",
      "metadata": {
        "id": "fdcb67e0-c19d-4731-a324-27d47300c615",
        "outputId": "e0698efa-585e-4680-a4b2-359ab6bb95e1"
      },
      "outputs": [
        {
          "name": "stdout",
          "output_type": "stream",
          "text": [
            "P\n",
            "y\n",
            "t\n",
            "o\n",
            "n\n"
          ]
        }
      ],
      "source": [
        "for letter in 'Python':\n",
        "\tif letter == 'h':\n",
        "\t\tcontinue\n",
        "\tprint(letter)"
      ]
    },
    {
      "cell_type": "markdown",
      "id": "ad0f4f57-c0be-442e-bc43-81c199af2e14",
      "metadata": {
        "id": "ad0f4f57-c0be-442e-bc43-81c199af2e14"
      },
      "source": [
        "#### Linear Search"
      ]
    },
    {
      "cell_type": "code",
      "execution_count": null,
      "id": "f4bf2516-95d9-480f-b775-8ea1275b30f3",
      "metadata": {
        "id": "f4bf2516-95d9-480f-b775-8ea1275b30f3",
        "outputId": "bed04b60-8141-4927-aff4-f6baf03eaf92"
      },
      "outputs": [
        {
          "name": "stdout",
          "output_type": "stream",
          "text": [
            "Target is not found\n"
          ]
        }
      ],
      "source": [
        "L1 = [1,2,3,4,5]\n",
        "target=10\n",
        "flag= False\n",
        "for i in range(len(L1)):\n",
        "    if target== L1[i]:        # 0 1 2\n",
        "        flag=True\n",
        "        print(target, \" is found at \", i, \" position\")\n",
        "\n",
        "if not flag:\n",
        "    print(\"Target is not found\")\n"
      ]
    },
    {
      "cell_type": "code",
      "execution_count": null,
      "id": "00a6d2ce-8a8b-4f40-941b-d2c24117fd81",
      "metadata": {
        "id": "00a6d2ce-8a8b-4f40-941b-d2c24117fd81"
      },
      "outputs": [],
      "source": [
        "# Assigment 3 solutions"
      ]
    },
    {
      "cell_type": "markdown",
      "id": "ad820e15-323c-42b4-b660-b8cdb38ee903",
      "metadata": {
        "id": "ad820e15-323c-42b4-b660-b8cdb38ee903"
      },
      "source": [
        "##### 5) Compress a string by replacing repeated characters with the character and count. Example:\n",
        "##### \"aaabbc\" → \"a3b2c1\". If compressed string isn’t shorter, return original.\n"
      ]
    },
    {
      "cell_type": "code",
      "execution_count": null,
      "id": "92302ec0-2baa-4696-94ca-b1eb4c32e579",
      "metadata": {
        "id": "92302ec0-2baa-4696-94ca-b1eb4c32e579",
        "outputId": "fdd718e9-9c29-4c24-c953-1cd3aca24871"
      },
      "outputs": [
        {
          "name": "stdout",
          "output_type": "stream",
          "text": [
            "a6b2c1\n"
          ]
        }
      ],
      "source": [
        "s = \"aaaaaabbc\"\n",
        "compressed = \"\"\n",
        "i = 0\n",
        "while i < len(s):\n",
        "    count = 1\n",
        "    while i + 1 < len(s) and s[i] == s[i + 1]:\n",
        "        count += 1\n",
        "        i += 1\n",
        "    compressed += s[i] + str(count)\n",
        "    i += 1\n",
        "\n",
        "if len(compressed) < len(s):\n",
        "     print(compressed)\n",
        "else:\n",
        "     print(s)"
      ]
    },
    {
      "cell_type": "markdown",
      "id": "a9dc71bd-681d-456c-ac93-b347e6428763",
      "metadata": {
        "id": "a9dc71bd-681d-456c-ac93-b347e6428763"
      },
      "source": [
        "###### 7) Given a string containing only '(', ')', '{', '}', '[', ']', check if the sequence is valid (properly nested and closed). Example: \"({[]})\" → \"Valid\", \"(]\" → \"Invalid\"."
      ]
    },
    {
      "cell_type": "code",
      "execution_count": null,
      "id": "83440ffc-3a08-4250-b2b7-570464b36125",
      "metadata": {
        "id": "83440ffc-3a08-4250-b2b7-570464b36125",
        "outputId": "3aa24799-703d-495f-c77b-af818c679d24"
      },
      "outputs": [
        {
          "name": "stdin",
          "output_type": "stream",
          "text": [
            "Enter a string:  {[()]}\n"
          ]
        },
        {
          "name": "stdout",
          "output_type": "stream",
          "text": [
            "Valid\n"
          ]
        }
      ],
      "source": [
        "x=input(\"Enter a string: \") # {[()]}  # output: valid\n",
        "\n",
        "s=[]\n",
        "dict={')':'(', ']':'[','}':'{' }    # i = }\n",
        "valid=True\n",
        "                                            # { {\n",
        "for i in x:\n",
        "  if i in '([{':\n",
        "    s.append(i)\n",
        "  elif i in ')]}':\n",
        "    if not s or s[-1] != dict[i]:   # ( ( [ [\n",
        "      valid= False\n",
        "      break\n",
        "    s.pop()\n",
        "\n",
        "if s:\n",
        "  valid =False\n",
        "\n",
        "print(\"Valid\" if valid else \"Invalid\")"
      ]
    },
    {
      "cell_type": "markdown",
      "id": "c8ec36c6-3df7-4531-9dd5-66a200df986c",
      "metadata": {
        "id": "c8ec36c6-3df7-4531-9dd5-66a200df986c"
      },
      "source": [
        "#### Dictionary\n",
        "##### Dictionary items are ordered, changeable, and do not allow duplicates.\n",
        "##### Dictionary items are presented in key:value pairs, and can be referred to by using the key name.\n",
        "##### Dictionaries are written with curly brackets, and have keys and values:"
      ]
    },
    {
      "cell_type": "markdown",
      "id": "4214b5cd-d6bb-4f0c-b6f0-7f479b910c2b",
      "metadata": {
        "id": "4214b5cd-d6bb-4f0c-b6f0-7f479b910c2b"
      },
      "source": [
        "##### creating a dictionary"
      ]
    },
    {
      "cell_type": "code",
      "execution_count": null,
      "id": "472929a7-5a32-478f-a1e7-b41cc9546e59",
      "metadata": {
        "id": "472929a7-5a32-478f-a1e7-b41cc9546e59"
      },
      "outputs": [],
      "source": [
        "playlist= { \"song1\": \"Bohemian Rhapsody\",\n",
        "           \"artist1\": \"Queen\",\n",
        "           \"duration1\": 5.55,\n",
        "           \"song2\": \"imagine\",\n",
        "            \"artist2\": \"John Lennon\",\n",
        "           \"duration2\": 3.03\n",
        "          }"
      ]
    },
    {
      "cell_type": "markdown",
      "id": "27e4547a-4e71-4ebc-9492-02f1c5acfdee",
      "metadata": {
        "id": "27e4547a-4e71-4ebc-9492-02f1c5acfdee"
      },
      "source": [
        "##### Accessing a dictionary"
      ]
    },
    {
      "cell_type": "code",
      "execution_count": null,
      "id": "d3bc4a60-8036-4138-ad2a-67e02e6b713f",
      "metadata": {
        "id": "d3bc4a60-8036-4138-ad2a-67e02e6b713f",
        "outputId": "1de225f1-89c9-41de-fcc9-5e8d91f1d217"
      },
      "outputs": [
        {
          "name": "stdout",
          "output_type": "stream",
          "text": [
            "First song Bohemian Rhapsody\n"
          ]
        }
      ],
      "source": [
        "print(\"First song\", playlist[\"song1\"])   #output:"
      ]
    },
    {
      "cell_type": "markdown",
      "id": "f86dd971-9d8c-4fe7-8e12-799f3f5233e7",
      "metadata": {
        "id": "f86dd971-9d8c-4fe7-8e12-799f3f5233e7"
      },
      "source": [
        "##### changing dictionary items"
      ]
    },
    {
      "cell_type": "code",
      "execution_count": null,
      "id": "674d0e69-81f7-46d4-a0e8-8d17d0b581ad",
      "metadata": {
        "id": "674d0e69-81f7-46d4-a0e8-8d17d0b581ad",
        "outputId": "3647374b-8944-4ad3-ce3f-f976a5dc98ac"
      },
      "outputs": [
        {
          "name": "stdout",
          "output_type": "stream",
          "text": [
            "Change duration is 6\n"
          ]
        }
      ],
      "source": [
        "playlist['duration1']= 6\n",
        "print(\"Change duration is\", playlist['duration1'])"
      ]
    },
    {
      "cell_type": "markdown",
      "id": "c01d8298-758a-4438-92f7-b61ffe76f587",
      "metadata": {
        "id": "c01d8298-758a-4438-92f7-b61ffe76f587"
      },
      "source": [
        "##### changing dictionary items"
      ]
    },
    {
      "cell_type": "code",
      "execution_count": null,
      "id": "c00f2d95-87a5-49c0-b692-1e2af8c9ad4e",
      "metadata": {
        "id": "c00f2d95-87a5-49c0-b692-1e2af8c9ad4e",
        "outputId": "4cd071e6-2a66-4bfe-cc63-995931851cac"
      },
      "outputs": [
        {
          "name": "stdout",
          "output_type": "stream",
          "text": [
            "Adding new item\n",
            "Hotel california\n"
          ]
        }
      ],
      "source": [
        "print(\"Adding new item\")\n",
        "playlist['song3']= \"Hotel california\"\n",
        "print(playlist['song3'])"
      ]
    },
    {
      "cell_type": "markdown",
      "id": "b0e57d33-cecc-4791-92d6-e64fe9bd0063",
      "metadata": {
        "id": "b0e57d33-cecc-4791-92d6-e64fe9bd0063"
      },
      "source": [
        "##### removing an item"
      ]
    },
    {
      "cell_type": "code",
      "execution_count": null,
      "id": "1572c4a1-48b0-4051-bc8c-4e858284e581",
      "metadata": {
        "id": "1572c4a1-48b0-4051-bc8c-4e858284e581",
        "outputId": "6a821bb2-c207-4a18-eb33-669507df3555"
      },
      "outputs": [
        {
          "data": {
            "text/plain": [
              "3.03"
            ]
          },
          "execution_count": 115,
          "metadata": {},
          "output_type": "execute_result"
        }
      ],
      "source": [
        "playlist.pop(\"duration2\")"
      ]
    },
    {
      "cell_type": "markdown",
      "id": "81d1fa26-63dc-4c47-a80d-38e35b86ae03",
      "metadata": {
        "id": "81d1fa26-63dc-4c47-a80d-38e35b86ae03"
      },
      "source": [
        "#### Traversing a dictionary"
      ]
    },
    {
      "cell_type": "code",
      "execution_count": null,
      "id": "f5c92020-852d-4b5f-bd45-e694c16a6198",
      "metadata": {
        "id": "f5c92020-852d-4b5f-bd45-e694c16a6198",
        "outputId": "0d66aa34-2d05-4736-f5af-46247b26cd4f"
      },
      "outputs": [
        {
          "name": "stdout",
          "output_type": "stream",
          "text": [
            "song1\n",
            "artist1\n",
            "duration1\n",
            "song2\n",
            "artist2\n",
            "song3\n"
          ]
        }
      ],
      "source": [
        "for i in playlist:\n",
        "    print(i)"
      ]
    },
    {
      "cell_type": "markdown",
      "id": "9beb5f05-8eb4-4330-b3c7-c73f6597b05d",
      "metadata": {
        "id": "9beb5f05-8eb4-4330-b3c7-c73f6597b05d"
      },
      "source": [
        "##### values()\n",
        "###### The values() method returns a view object. The view object contains the values of the dictionary, as a list."
      ]
    },
    {
      "cell_type": "code",
      "execution_count": null,
      "id": "56d9a8fb-24c5-46b2-aee5-ef364e3595de",
      "metadata": {
        "id": "56d9a8fb-24c5-46b2-aee5-ef364e3595de",
        "outputId": "8acd2074-3041-4fe5-ab1f-330b45c34a31"
      },
      "outputs": [
        {
          "name": "stdout",
          "output_type": "stream",
          "text": [
            "Bohemian Rhapsody\n",
            "Queen\n",
            "6\n",
            "imagine\n",
            "John Lennon\n",
            "Hotel california\n"
          ]
        }
      ],
      "source": [
        "for i in playlist.values():\n",
        "    print(i)"
      ]
    },
    {
      "cell_type": "markdown",
      "id": "ff4dfd28-de0c-49fb-ae1f-cc7df7e35ecb",
      "metadata": {
        "id": "ff4dfd28-de0c-49fb-ae1f-cc7df7e35ecb"
      },
      "source": [
        "##### keys()\n",
        "###### The keys() method returns a view object. The view object contains the keys of the dictionary, as a list.\n",
        "\n"
      ]
    },
    {
      "cell_type": "code",
      "execution_count": null,
      "id": "4f125858-d9c3-4909-86e3-db62e2647fa6",
      "metadata": {
        "id": "4f125858-d9c3-4909-86e3-db62e2647fa6",
        "outputId": "b6908d11-5c30-41a4-eff5-0e0175c9ec05"
      },
      "outputs": [
        {
          "name": "stdout",
          "output_type": "stream",
          "text": [
            "song1\n",
            "artist1\n",
            "duration1\n",
            "song2\n",
            "artist2\n",
            "song3\n"
          ]
        }
      ],
      "source": [
        "for i in playlist.keys():\n",
        "    print(i)"
      ]
    },
    {
      "cell_type": "markdown",
      "id": "6d29b757-fe58-45d5-bad8-e5bb339c8845",
      "metadata": {
        "id": "6d29b757-fe58-45d5-bad8-e5bb339c8845"
      },
      "source": [
        "#### items()\n",
        "##### The items() method returns a view object. The view object contains the key-value pairs of the dictionary, as tuples in a list.\n",
        "\n",
        "##### The view object will reflect any changes done to the dictionary, see example below."
      ]
    },
    {
      "cell_type": "code",
      "execution_count": null,
      "id": "afaa8a53-9a92-4e8d-b031-c3480ceb2c00",
      "metadata": {
        "id": "afaa8a53-9a92-4e8d-b031-c3480ceb2c00",
        "outputId": "32127b8f-676b-409a-912c-ecb4aa97e9b0"
      },
      "outputs": [
        {
          "name": "stdout",
          "output_type": "stream",
          "text": [
            "('song1', 'Bohemian Rhapsody')\n",
            "('artist1', 'Queen')\n",
            "('duration1', 6)\n",
            "('song2', 'imagine')\n",
            "('artist2', 'John Lennon')\n",
            "('song3', 'Hotel california')\n"
          ]
        }
      ],
      "source": [
        "for i in playlist.items():\n",
        "    print(i)"
      ]
    },
    {
      "cell_type": "markdown",
      "id": "fb42b6c2-9105-463f-b1d1-449f4c735141",
      "metadata": {
        "id": "fb42b6c2-9105-463f-b1d1-449f4c735141"
      },
      "source": [
        "#### Nested Dictionary\n",
        "##### A dictionary can contain dictionaries, this is called nested dictionaries."
      ]
    },
    {
      "cell_type": "code",
      "execution_count": null,
      "id": "fd894a7c-4117-4619-8b48-6275f38d1b94",
      "metadata": {
        "id": "fd894a7c-4117-4619-8b48-6275f38d1b94"
      },
      "outputs": [],
      "source": [
        "music_library= {\n",
        "\n",
        "    \"track1\": {'song':'never give up', 'artist':'yuvraj', 'duration': 4.5},\n",
        "    \"track2\": {'song':'never fall down', 'artist':'Sachin', 'duration': 5.5},\n",
        "    \"track3\": {'song':'Sorry', 'artist':'Pranav', 'duration': 6.5}\n",
        "}"
      ]
    },
    {
      "cell_type": "code",
      "execution_count": null,
      "id": "632aee57-4d10-4f56-8e7c-fe4215bb0d6c",
      "metadata": {
        "id": "632aee57-4d10-4f56-8e7c-fe4215bb0d6c",
        "outputId": "cc6c45f4-db6a-468e-bb35-8920399d3eba"
      },
      "outputs": [
        {
          "name": "stdout",
          "output_type": "stream",
          "text": [
            "{'song': 'never give up', 'artist': 'yuvraj', 'duration': 4.5}\n",
            "{'song': 'never fall down', 'artist': 'Sachin', 'duration': 5.5}\n",
            "{'song': 'Sorry', 'artist': 'Pranav', 'duration': 6.5}\n"
          ]
        }
      ],
      "source": [
        "for i in music_library:\n",
        "    print(music_library[i])"
      ]
    },
    {
      "cell_type": "code",
      "execution_count": null,
      "id": "686bcd05-c61a-4b55-aa3e-034805336f60",
      "metadata": {
        "id": "686bcd05-c61a-4b55-aa3e-034805336f60",
        "outputId": "add72e82-2874-42e9-e3db-f83242257dbb"
      },
      "outputs": [
        {
          "ename": "AttributeError",
          "evalue": "'str' object has no attribute 'values'",
          "output_type": "error",
          "traceback": [
            "\u001b[1;31m---------------------------------------------------------------------------\u001b[0m",
            "\u001b[1;31mAttributeError\u001b[0m                            Traceback (most recent call last)",
            "Cell \u001b[1;32mIn[127], line 2\u001b[0m\n\u001b[0;32m      1\u001b[0m \u001b[38;5;28;01mfor\u001b[39;00m x,y \u001b[38;5;129;01min\u001b[39;00m music_library\u001b[38;5;241m.\u001b[39mitems():\n\u001b[1;32m----> 2\u001b[0m     \u001b[38;5;28;01mfor\u001b[39;00m i \u001b[38;5;129;01min\u001b[39;00m x\u001b[38;5;241m.\u001b[39mvalues():\n\u001b[0;32m      3\u001b[0m         \u001b[38;5;28mprint\u001b[39m(i)\n",
            "\u001b[1;31mAttributeError\u001b[0m: 'str' object has no attribute 'values'"
          ]
        }
      ],
      "source": [
        "for x,y in music_library.items():\n",
        "\n",
        ""
      ]
    },
    {
      "cell_type": "code",
      "execution_count": null,
      "id": "e7cd8e35-6e4a-40b2-8aee-1cd2637c6ca5",
      "metadata": {
        "id": "e7cd8e35-6e4a-40b2-8aee-1cd2637c6ca5",
        "outputId": "bf0bceb8-b228-4017-dc13-3abf2eb821b2"
      },
      "outputs": [
        {
          "name": "stdout",
          "output_type": "stream",
          "text": [
            "key is  song1  value is  Bohemian Rhapsody\n",
            "key is  artist1  value is  Queen\n",
            "key is  duration1  value is  6\n",
            "key is  song2  value is  imagine\n",
            "key is  artist2  value is  John Lennon\n",
            "key is  song3  value is  Hotel california\n"
          ]
        }
      ],
      "source": [
        "for x,y in playlist.items():\n",
        "    print(\"key is \", x, \" value is \", y)"
      ]
    },
    {
      "cell_type": "markdown",
      "id": "307bc287-2543-4722-bd56-9fa6dd494169",
      "metadata": {
        "id": "307bc287-2543-4722-bd56-9fa6dd494169"
      },
      "source": [
        "##### Access an items in a dictionary"
      ]
    },
    {
      "cell_type": "code",
      "execution_count": null,
      "id": "a1e938e8-0c5b-4c23-9a4e-f94f640ef96d",
      "metadata": {
        "id": "a1e938e8-0c5b-4c23-9a4e-f94f640ef96d",
        "outputId": "2a7a7f96-7af7-4de9-d4c6-8be13b7d6d0b"
      },
      "outputs": [
        {
          "data": {
            "text/plain": [
              "'never give up'"
            ]
          },
          "execution_count": 63,
          "metadata": {},
          "output_type": "execute_result"
        }
      ],
      "source": [
        "music_library['track1']['song']"
      ]
    },
    {
      "cell_type": "code",
      "execution_count": null,
      "id": "527ed7b3-3cef-4e89-a112-8c845e2fabdd",
      "metadata": {
        "id": "527ed7b3-3cef-4e89-a112-8c845e2fabdd",
        "outputId": "59eaf733-8d5a-4033-db45-0ecf20195cbe"
      },
      "outputs": [
        {
          "data": {
            "text/plain": [
              "{'song': 'never give up', 'artist': 'yuvraj', 'duration': 4.5}"
            ]
          },
          "execution_count": 3,
          "metadata": {},
          "output_type": "execute_result"
        }
      ],
      "source": [
        "music_library['track1']"
      ]
    },
    {
      "cell_type": "code",
      "execution_count": null,
      "id": "70412a40-5090-4be8-a5a2-b02294472b60",
      "metadata": {
        "id": "70412a40-5090-4be8-a5a2-b02294472b60"
      },
      "outputs": [],
      "source": [
        "playlist2= playlist.copy()"
      ]
    },
    {
      "cell_type": "code",
      "execution_count": null,
      "id": "607dd94c-e4d7-426a-a661-579c4333ac00",
      "metadata": {
        "id": "607dd94c-e4d7-426a-a661-579c4333ac00",
        "outputId": "fb3f2809-463c-4caa-f691-1b59d24cb6c4"
      },
      "outputs": [
        {
          "data": {
            "text/plain": [
              "{'song1': 'Bohemian Rhapsody',\n",
              " 'artist1': 'Queen',\n",
              " 'duration1': 5.55,\n",
              " 'song2': 'imagine',\n",
              " 'artist2': 'John Lennon',\n",
              " 'duration2': 3.03}"
            ]
          },
          "execution_count": 13,
          "metadata": {},
          "output_type": "execute_result"
        }
      ],
      "source": [
        "playlist2"
      ]
    },
    {
      "cell_type": "code",
      "execution_count": null,
      "id": "8314afe4-cbc0-4897-8b18-a7e10b23f7bc",
      "metadata": {
        "id": "8314afe4-cbc0-4897-8b18-a7e10b23f7bc",
        "outputId": "1ff2bdfe-6b71-469a-a9a3-ca2fd92dceae"
      },
      "outputs": [
        {
          "name": "stdout",
          "output_type": "stream",
          "text": [
            "('song1', 'Bohemian Rhapsody')\n",
            "('artist1', 'Queen')\n",
            "('duration1', 6)\n",
            "('song2', 'imagine')\n",
            "('artist2', 'John Lennon')\n",
            "('song3', 'Hotel california')\n"
          ]
        }
      ],
      "source": [
        "for i in playlist2.items():\n",
        "    print(i)"
      ]
    },
    {
      "cell_type": "markdown",
      "id": "88dc788a-b327-41c4-b161-43e1a9c46176",
      "metadata": {
        "id": "88dc788a-b327-41c4-b161-43e1a9c46176"
      },
      "source": [
        "##### get()\n",
        "###### The get() method returns the value of the item with the specified key.\n",
        "###### dictionary.get(keyname, value)"
      ]
    },
    {
      "cell_type": "code",
      "execution_count": null,
      "id": "76327e79-c67a-4625-886c-1c67b19fa70f",
      "metadata": {
        "id": "76327e79-c67a-4625-886c-1c67b19fa70f",
        "outputId": "5d388489-4ece-46b4-c01b-e6558b39a1c8"
      },
      "outputs": [
        {
          "name": "stdout",
          "output_type": "stream",
          "text": [
            "Bohemian Rhapsody\n"
          ]
        }
      ],
      "source": [
        "print(playlist.get('song1'))"
      ]
    },
    {
      "cell_type": "markdown",
      "id": "efe55bed-18c0-4fae-9bae-b92089da624e",
      "metadata": {
        "id": "efe55bed-18c0-4fae-9bae-b92089da624e"
      },
      "source": [
        "##### dictionary methods\n",
        "###### clear()\tRemoves all the elements from the dictionary\n",
        "###### copy()\tReturns a copy of the dictionary\n",
        "###### fromkeys()\tReturns a dictionary with the specified keys and value\n",
        "###### get()\tReturns the value of the specified key\n",
        "###### items()\tReturns a list containing a tuple for each key value pair\n",
        "###### keys()\tReturns a list containing the dictionary's keys\n",
        "###### pop()\tRemoves the element with the specified key\n",
        "###### popitem()\tRemoves the last inserted key-value pair\n",
        "###### setdefault()\tReturns the value of the specified key. If the key does not exist: ###### insert the key, with the specified value\n",
        "###### update()\tUpdates the dictionary with the specified key-value pairs\n",
        "###### values()\tReturns a list of all the values in the dictionary"
      ]
    },
    {
      "cell_type": "code",
      "execution_count": null,
      "id": "f0a53144-920c-4630-b039-faf613c1a035",
      "metadata": {
        "id": "f0a53144-920c-4630-b039-faf613c1a035"
      },
      "outputs": [],
      "source": [
        "playlist.clear()"
      ]
    },
    {
      "cell_type": "code",
      "execution_count": null,
      "id": "6396eb5c-d1ea-4e35-a513-b4b7cb675b73",
      "metadata": {
        "id": "6396eb5c-d1ea-4e35-a513-b4b7cb675b73",
        "outputId": "b7eea5c0-314e-4787-a435-b4d82556b5e2"
      },
      "outputs": [
        {
          "data": {
            "text/plain": [
              "{}"
            ]
          },
          "execution_count": 87,
          "metadata": {},
          "output_type": "execute_result"
        }
      ],
      "source": [
        "playlist"
      ]
    },
    {
      "cell_type": "code",
      "execution_count": null,
      "id": "ebae753a-1e27-40ca-bb41-880bb0077d7f",
      "metadata": {
        "id": "ebae753a-1e27-40ca-bb41-880bb0077d7f",
        "outputId": "41a2f3b1-bee3-4e9d-c8aa-9aa08a80be41"
      },
      "outputs": [
        {
          "data": {
            "text/plain": [
              "{'song1': 'Bohemian Rhapsody',\n",
              " 'artist1': 'Queen',\n",
              " 'duration1': 6,\n",
              " 'song2': 'imagine',\n",
              " 'artist2': 'John Lennon',\n",
              " 'song3': 'Hotel california'}"
            ]
          },
          "execution_count": 99,
          "metadata": {},
          "output_type": "execute_result"
        }
      ],
      "source": [
        "playlist2"
      ]
    },
    {
      "cell_type": "code",
      "execution_count": null,
      "id": "c1a85ae4-cdce-4cfb-bcdf-d1e3619b6c9a",
      "metadata": {
        "id": "c1a85ae4-cdce-4cfb-bcdf-d1e3619b6c9a",
        "outputId": "576877e5-3e59-4aae-8918-940515119a30"
      },
      "outputs": [
        {
          "name": "stdout",
          "output_type": "stream",
          "text": [
            "{'a': 1, 'b': [2, 3, 4]}\n",
            "{'a': 4, 'b': [2, 3, 4]}\n"
          ]
        }
      ],
      "source": []
    },
    {
      "cell_type": "markdown",
      "id": "b8f0ac05-fc66-43db-8807-b43e4560c801",
      "metadata": {
        "id": "b8f0ac05-fc66-43db-8807-b43e4560c801"
      },
      "source": [
        "#### fromkeys()\n",
        "##### syntax  fromkeys(keys, value)\n",
        "###### The fromkeys() method is used to create a new dictionary from a sequence of keys. It is a class method of the dictionary class, meaning it is called using dict.fromkeys().\n",
        "\n"
      ]
    },
    {
      "cell_type": "code",
      "execution_count": null,
      "id": "ff1c47cc-457d-4d78-8ac0-975b1c2225f7",
      "metadata": {
        "id": "ff1c47cc-457d-4d78-8ac0-975b1c2225f7",
        "outputId": "ff90f281-07a2-43db-83a8-8191773fd603"
      },
      "outputs": [
        {
          "data": {
            "text/plain": [
              "{'Sachin': 100, 'yuvraj': 100, 'Dhoni': 100}"
            ]
          },
          "execution_count": 17,
          "metadata": {},
          "output_type": "execute_result"
        }
      ],
      "source": [
        "list= ['Sachin', 'yuvraj', 'Dhoni']\n",
        "player= dict.fromkeys(list, 100)   # sequence, value\n",
        "player"
      ]
    },
    {
      "cell_type": "code",
      "execution_count": null,
      "id": "365638f9-e2d7-459f-8250-843a447b8755",
      "metadata": {
        "id": "365638f9-e2d7-459f-8250-843a447b8755",
        "outputId": "2f35cf4d-1a5b-428b-eefe-431af4e53c4d"
      },
      "outputs": [
        {
          "data": {
            "text/plain": [
              "('Dhoni', 100)"
            ]
          },
          "execution_count": 19,
          "metadata": {},
          "output_type": "execute_result"
        }
      ],
      "source": [
        "player.popitem()"
      ]
    },
    {
      "cell_type": "code",
      "execution_count": null,
      "id": "28f740ca-255b-446d-b7a7-d1ba7fada007",
      "metadata": {
        "id": "28f740ca-255b-446d-b7a7-d1ba7fada007",
        "outputId": "0f2793de-f706-4643-c81d-acca95a9b8a9"
      },
      "outputs": [
        {
          "data": {
            "text/plain": [
              "{'Sachin': 100, 'yuvraj': 100}"
            ]
          },
          "execution_count": 21,
          "metadata": {},
          "output_type": "execute_result"
        }
      ],
      "source": [
        "player"
      ]
    },
    {
      "cell_type": "markdown",
      "id": "65ea3933-d46c-43d1-9b8a-a1d276251bd7",
      "metadata": {
        "id": "65ea3933-d46c-43d1-9b8a-a1d276251bd7"
      },
      "source": [
        "##### setdefault\n",
        "###### The setdefault() method returns the value of the item with the specified key.\n",
        "###### If the key does not exist, insert the key, with the specified value, see example below\n"
      ]
    },
    {
      "cell_type": "code",
      "execution_count": null,
      "id": "7b9dc420-9277-4538-8cbf-6cfe5bd23cbf",
      "metadata": {
        "id": "7b9dc420-9277-4538-8cbf-6cfe5bd23cbf",
        "outputId": "2fca403c-729d-4e4e-955a-935be6994068"
      },
      "outputs": [
        {
          "data": {
            "text/plain": [
              "50"
            ]
          },
          "execution_count": 132,
          "metadata": {},
          "output_type": "execute_result"
        }
      ],
      "source": [
        "player.setdefault('Ashish nehra', 50)"
      ]
    },
    {
      "cell_type": "code",
      "execution_count": null,
      "id": "8efb1313-faaf-414b-93f9-a55aa2e77983",
      "metadata": {
        "id": "8efb1313-faaf-414b-93f9-a55aa2e77983",
        "outputId": "b19e2ff9-5de3-4a3a-ffd7-ec2c88217df0"
      },
      "outputs": [
        {
          "data": {
            "text/plain": [
              "100"
            ]
          },
          "execution_count": 23,
          "metadata": {},
          "output_type": "execute_result"
        }
      ],
      "source": [
        "player.setdefault('yuvraj', 50)"
      ]
    },
    {
      "cell_type": "code",
      "execution_count": null,
      "id": "c01f5396-3ab6-4dc9-b4a3-092eb6cf0cad",
      "metadata": {
        "id": "c01f5396-3ab6-4dc9-b4a3-092eb6cf0cad",
        "outputId": "98adeea8-b907-4856-e4fd-fab85c2059ba"
      },
      "outputs": [
        {
          "data": {
            "text/plain": [
              "{'Sachin': 100, 'yuvraj': 100, 'Kohli': None, 'Ashish nehra': 50}"
            ]
          },
          "execution_count": 134,
          "metadata": {},
          "output_type": "execute_result"
        }
      ],
      "source": [
        "player"
      ]
    },
    {
      "cell_type": "code",
      "execution_count": null,
      "id": "711fcd7d-7721-44ab-8c31-63b5468f0160",
      "metadata": {
        "id": "711fcd7d-7721-44ab-8c31-63b5468f0160",
        "outputId": "1c18ec21-e566-4911-e07e-4dd3e3a48c98"
      },
      "outputs": [
        {
          "data": {
            "text/plain": [
              "500"
            ]
          },
          "execution_count": 136,
          "metadata": {},
          "output_type": "execute_result"
        }
      ],
      "source": [
        "player.setdefault('Dhoni',500)"
      ]
    },
    {
      "cell_type": "code",
      "execution_count": null,
      "id": "db36acab-ac76-4c16-b155-9c580244fbe9",
      "metadata": {
        "id": "db36acab-ac76-4c16-b155-9c580244fbe9",
        "outputId": "33886424-c6bd-4ca8-c3ca-fa59919fdcbd"
      },
      "outputs": [
        {
          "data": {
            "text/plain": [
              "{'Sachin': 100, 'yuvraj': 100, 'Kohli': None, 'Ashish nehra': 50, 'Dhoni': 500}"
            ]
          },
          "execution_count": 138,
          "metadata": {},
          "output_type": "execute_result"
        }
      ],
      "source": [
        "player"
      ]
    },
    {
      "cell_type": "code",
      "execution_count": null,
      "id": "e285cf5d-a86d-40ef-99a7-854e5eb74f8e",
      "metadata": {
        "id": "e285cf5d-a86d-40ef-99a7-854e5eb74f8e"
      },
      "outputs": [],
      "source": [
        "# update\n",
        "player.update({'Ashwin':50})"
      ]
    },
    {
      "cell_type": "code",
      "execution_count": null,
      "id": "c702648a-d0ca-4f6b-b2e3-fd84d7fa5459",
      "metadata": {
        "id": "c702648a-d0ca-4f6b-b2e3-fd84d7fa5459",
        "outputId": "e73e9cf7-bc49-4c15-ced9-ad764bed6250"
      },
      "outputs": [
        {
          "data": {
            "text/plain": [
              "{'Sachin': 100,\n",
              " 'yuvraj': 100,\n",
              " 'Kohli': None,\n",
              " 'Ashish nehra': 50,\n",
              " 'Dhoni': 500,\n",
              " 'Ashwin': 50}"
            ]
          },
          "execution_count": 144,
          "metadata": {},
          "output_type": "execute_result"
        }
      ],
      "source": [
        "player"
      ]
    },
    {
      "cell_type": "code",
      "execution_count": null,
      "id": "b87e9b68-54d5-4af9-8b17-d5140354520b",
      "metadata": {
        "id": "b87e9b68-54d5-4af9-8b17-d5140354520b",
        "outputId": "1dc19b4e-5015-4959-9fe2-976d3fabe4c8"
      },
      "outputs": [
        {
          "data": {
            "text/plain": [
              "{1: 'a', 2: 'b', 3: 'c', 4: 'd', 5: 'e', 6: 'f', 7: 'g', 8: 'h'}"
            ]
          },
          "execution_count": 150,
          "metadata": {},
          "output_type": "execute_result"
        }
      ],
      "source": [
        "dict1= {1:'a',2:'b',3:'c',4:'d'}\n",
        "dict2= {5:'e',6:'f',7:'g',8:'h'}\n",
        "# merge dict1 and dict2\n",
        "dict3= dict1 | dict2\n",
        "dict3"
      ]
    },
    {
      "cell_type": "code",
      "execution_count": null,
      "id": "c5e657dc-9757-4f6c-a7a8-4c53aca9e603",
      "metadata": {
        "id": "c5e657dc-9757-4f6c-a7a8-4c53aca9e603"
      },
      "outputs": [],
      "source": [
        "dict1.update(dict2)"
      ]
    },
    {
      "cell_type": "code",
      "execution_count": null,
      "id": "aa623104-b83a-43aa-a566-92557a6b7c7c",
      "metadata": {
        "id": "aa623104-b83a-43aa-a566-92557a6b7c7c",
        "outputId": "15243410-925a-4d9a-8f60-360514e0836c"
      },
      "outputs": [
        {
          "data": {
            "text/plain": [
              "{1: 'a', 2: 'b', 3: 'c', 4: 'd', 5: 'e', 6: 'f', 7: 'g', 8: 'h'}"
            ]
          },
          "execution_count": 170,
          "metadata": {},
          "output_type": "execute_result"
        }
      ],
      "source": [
        "dict1"
      ]
    },
    {
      "cell_type": "markdown",
      "id": "bfa88401-0546-4f57-a9d0-106e423d9053",
      "metadata": {
        "id": "bfa88401-0546-4f57-a9d0-106e423d9053"
      },
      "source": [
        "#### Tuples\n",
        "##### Tuples are used to store multiple items in a single variable.\n",
        "\n",
        "##### Tuple is one of 4 built-in data types in Python used to store collections of data, the other 3 are List, Set, and Dictionary, all with different qualities and usage.\n",
        "\n",
        "##### A tuple is a collection which is ordered and unchangeable.\n",
        "\n",
        "##### Tuples are written with round brackets."
      ]
    },
    {
      "cell_type": "code",
      "execution_count": null,
      "id": "d7905cfb-6cad-4e98-b58d-bc6a3e5b7bd3",
      "metadata": {
        "id": "d7905cfb-6cad-4e98-b58d-bc6a3e5b7bd3"
      },
      "outputs": [],
      "source": [
        "tuple= (1,2.5,'Delhi', [3,5,6],1)"
      ]
    },
    {
      "cell_type": "code",
      "execution_count": null,
      "id": "a7396c93-8fd5-4054-992b-e44c913460ad",
      "metadata": {
        "id": "a7396c93-8fd5-4054-992b-e44c913460ad",
        "outputId": "0698ca32-e5ce-48d9-8fe8-7dcf057018e8"
      },
      "outputs": [
        {
          "data": {
            "text/plain": [
              "1"
            ]
          },
          "execution_count": 30,
          "metadata": {},
          "output_type": "execute_result"
        }
      ],
      "source": [
        "tuple[0] # return first item"
      ]
    },
    {
      "cell_type": "code",
      "execution_count": null,
      "id": "2fd32eb2-357f-4717-94f7-8471218a3536",
      "metadata": {
        "id": "2fd32eb2-357f-4717-94f7-8471218a3536",
        "outputId": "5c7152eb-c72e-45b3-b4a8-cd0e3734cc77"
      },
      "outputs": [
        {
          "ename": "TypeError",
          "evalue": "'tuple' object does not support item assignment",
          "output_type": "error",
          "traceback": [
            "\u001b[1;31m---------------------------------------------------------------------------\u001b[0m",
            "\u001b[1;31mTypeError\u001b[0m                                 Traceback (most recent call last)",
            "Cell \u001b[1;32mIn[32], line 1\u001b[0m\n\u001b[1;32m----> 1\u001b[0m \u001b[38;5;28mtuple\u001b[39m[\u001b[38;5;241m0\u001b[39m]\u001b[38;5;241m=\u001b[39m\u001b[38;5;241m4\u001b[39m\n",
            "\u001b[1;31mTypeError\u001b[0m: 'tuple' object does not support item assignment"
          ]
        }
      ],
      "source": [
        "tuple[0]=4   #it does not support item assigment because it is immutable"
      ]
    },
    {
      "cell_type": "markdown",
      "id": "0648df8e-98c6-4935-9ad0-74d51ee61e64",
      "metadata": {
        "id": "0648df8e-98c6-4935-9ad0-74d51ee61e64"
      },
      "source": [
        "##### When we create a tuple, we normally assign values to it. This is called \"packing\" a tuple:\n",
        "##### But, in Python, we are also allowed to extract the values back into variables. This is called \"unpacking\":"
      ]
    },
    {
      "cell_type": "code",
      "execution_count": null,
      "id": "855c047f-0501-4ed6-b047-cefcfbde7c86",
      "metadata": {
        "id": "855c047f-0501-4ed6-b047-cefcfbde7c86"
      },
      "outputs": [],
      "source": [
        "a,b,c,d,e= tuple"
      ]
    },
    {
      "cell_type": "code",
      "execution_count": null,
      "id": "2b070320-2231-40ca-a0b6-782c877b4f9b",
      "metadata": {
        "id": "2b070320-2231-40ca-a0b6-782c877b4f9b",
        "outputId": "0070ae53-5648-4f9c-aa9b-9a128d449f3f"
      },
      "outputs": [
        {
          "name": "stdout",
          "output_type": "stream",
          "text": [
            "1 2.5 Delhi [3, 5, 6] 1\n"
          ]
        }
      ],
      "source": [
        "print(a,b,c,d,e)"
      ]
    },
    {
      "cell_type": "code",
      "execution_count": null,
      "id": "b380e400-3823-4978-b1ca-7d8f46810e17",
      "metadata": {
        "id": "b380e400-3823-4978-b1ca-7d8f46810e17",
        "outputId": "9349ad9d-50b9-4d19-a97e-a3c65bf89d1a"
      },
      "outputs": [
        {
          "name": "stdout",
          "output_type": "stream",
          "text": [
            "1\n",
            "2.5\n",
            "Delhi\n",
            "[3, 5, 6]\n",
            "1\n"
          ]
        }
      ],
      "source": [
        "for i in tuple:\n",
        "    print(i)"
      ]
    },
    {
      "cell_type": "code",
      "execution_count": null,
      "id": "68280456-67e0-42cc-9d4b-a0545c28b8de",
      "metadata": {
        "id": "68280456-67e0-42cc-9d4b-a0545c28b8de"
      },
      "outputs": [],
      "source": [
        "tuple2= ('apple','banana','orange')"
      ]
    },
    {
      "cell_type": "code",
      "execution_count": null,
      "id": "2e65f42d-a699-4320-a964-bd7b04d400a7",
      "metadata": {
        "id": "2e65f42d-a699-4320-a964-bd7b04d400a7"
      },
      "outputs": [],
      "source": [
        "tuple3= tuple+tuple2   # join operator"
      ]
    },
    {
      "cell_type": "code",
      "execution_count": null,
      "id": "e61508c2-003f-450a-b412-6802e6b4322b",
      "metadata": {
        "id": "e61508c2-003f-450a-b412-6802e6b4322b",
        "outputId": "b0504b46-1971-47c5-abdd-0889c014103f"
      },
      "outputs": [
        {
          "data": {
            "text/plain": [
              "(1, 2.5, 'Delhi', [3, 5, 6], 1, 'apple', 'banana', 'orange')"
            ]
          },
          "execution_count": 50,
          "metadata": {},
          "output_type": "execute_result"
        }
      ],
      "source": [
        "tuple3"
      ]
    },
    {
      "cell_type": "code",
      "execution_count": null,
      "id": "b94d8842-66a6-4dcd-a721-c20d0fdef56a",
      "metadata": {
        "id": "b94d8842-66a6-4dcd-a721-c20d0fdef56a"
      },
      "outputs": [],
      "source": [
        "tuple4= tuple*3"
      ]
    },
    {
      "cell_type": "code",
      "execution_count": null,
      "id": "62878d82-97ee-4bef-b756-81c87042f6f0",
      "metadata": {
        "id": "62878d82-97ee-4bef-b756-81c87042f6f0",
        "outputId": "7eaa1530-d99d-4c9b-d55f-d524644d3d7c"
      },
      "outputs": [
        {
          "data": {
            "text/plain": [
              "(1,\n",
              " 2.5,\n",
              " 'Delhi',\n",
              " [3, 5, 6],\n",
              " 1,\n",
              " 1,\n",
              " 2.5,\n",
              " 'Delhi',\n",
              " [3, 5, 6],\n",
              " 1,\n",
              " 1,\n",
              " 2.5,\n",
              " 'Delhi',\n",
              " [3, 5, 6],\n",
              " 1)"
            ]
          },
          "execution_count": 54,
          "metadata": {},
          "output_type": "execute_result"
        }
      ],
      "source": [
        "tuple4"
      ]
    },
    {
      "cell_type": "code",
      "execution_count": null,
      "id": "053a59a9-4892-400b-b363-4ca29c99add9",
      "metadata": {
        "id": "053a59a9-4892-400b-b363-4ca29c99add9",
        "outputId": "08c61e9b-7312-4bc3-b7e4-9bdddf41e98a"
      },
      "outputs": [
        {
          "data": {
            "text/plain": [
              "2"
            ]
          },
          "execution_count": 56,
          "metadata": {},
          "output_type": "execute_result"
        }
      ],
      "source": [
        "# count function return the number of times the specified values occurs in the tuple\n",
        "tuple.count(1)"
      ]
    },
    {
      "cell_type": "code",
      "execution_count": null,
      "id": "011afcf3-bdd2-4c7a-84b5-6f459efce042",
      "metadata": {
        "id": "011afcf3-bdd2-4c7a-84b5-6f459efce042",
        "outputId": "edb10b64-bec8-4c10-dfad-199cf3fe3fb0"
      },
      "outputs": [
        {
          "data": {
            "text/plain": [
              "1"
            ]
          },
          "execution_count": 60,
          "metadata": {},
          "output_type": "execute_result"
        }
      ],
      "source": [
        "tuple3.count('apple')"
      ]
    },
    {
      "cell_type": "code",
      "execution_count": null,
      "id": "05cd6ef0-8cb9-4d59-bf50-e8fe8e01c1ca",
      "metadata": {
        "id": "05cd6ef0-8cb9-4d59-bf50-e8fe8e01c1ca",
        "outputId": "303607a5-393d-47a0-90c8-7c8bc3640c46"
      },
      "outputs": [
        {
          "data": {
            "text/plain": [
              "0"
            ]
          },
          "execution_count": 62,
          "metadata": {},
          "output_type": "execute_result"
        }
      ],
      "source": [
        "# index function is return the position of the specified value\n",
        "tuple3.index(1)"
      ]
    },
    {
      "cell_type": "markdown",
      "id": "3b0e6af2-e82f-4bd7-b61b-faab6fa566f3",
      "metadata": {
        "id": "3b0e6af2-e82f-4bd7-b61b-faab6fa566f3"
      },
      "source": [
        "#### Set\n",
        "##### Sets are used to store multiple items in a single variable.\n",
        "\n",
        "##### Set is one of 4 built-in data types in Python used to store collections of data, the other 3 are List, Tuple, and Dictionary, all with different qualities and usage.\n",
        "\n",
        "##### A set is a collection which is unordered, unchangeable*, and unindexed.\n",
        "##### Sets cannot have two items with the same value.\n",
        "\n",
        "##### * Note: Set items are unchangeable, but you can remove items and add new items."
      ]
    },
    {
      "cell_type": "code",
      "execution_count": null,
      "id": "0b85d714-e812-4595-913a-390acce8fac9",
      "metadata": {
        "id": "0b85d714-e812-4595-913a-390acce8fac9"
      },
      "outputs": [],
      "source": [
        "set1= {\"apple\", \"banana\", \"orange\", 1 ,2.5, (1,4),1}"
      ]
    },
    {
      "cell_type": "code",
      "execution_count": null,
      "id": "30ffa32a-bd11-4254-9515-9fa5b5d6129d",
      "metadata": {
        "id": "30ffa32a-bd11-4254-9515-9fa5b5d6129d",
        "outputId": "e6a7ebeb-3aca-415c-f287-7dbe59e04f41"
      },
      "outputs": [
        {
          "name": "stdout",
          "output_type": "stream",
          "text": [
            "1\n",
            "banana\n",
            "2.5\n",
            "orange\n",
            "(1, 4)\n",
            "apple\n"
          ]
        }
      ],
      "source": [
        "# access set item using for loop\n",
        "for i in set1:\n",
        "    print(i)"
      ]
    },
    {
      "cell_type": "code",
      "execution_count": null,
      "id": "1e10d22c-e2e1-4fef-bd86-7b1e0f2e1fba",
      "metadata": {
        "id": "1e10d22c-e2e1-4fef-bd86-7b1e0f2e1fba",
        "outputId": "abbee2f3-f31c-4688-b3a2-769dbc381df3"
      },
      "outputs": [
        {
          "data": {
            "text/plain": [
              "{(1, 4), 1, 2.5, 'apple', 'banana', 'orange'}"
            ]
          },
          "execution_count": 120,
          "metadata": {},
          "output_type": "execute_result"
        }
      ],
      "source": [
        "set1"
      ]
    },
    {
      "cell_type": "code",
      "execution_count": null,
      "id": "3184e23f-1371-494c-9c79-53d687bf4cba",
      "metadata": {
        "id": "3184e23f-1371-494c-9c79-53d687bf4cba",
        "outputId": "8955048b-0a0f-43fc-ee64-bb26c2527479"
      },
      "outputs": [
        {
          "data": {
            "text/plain": [
              "True"
            ]
          },
          "execution_count": 122,
          "metadata": {},
          "output_type": "execute_result"
        }
      ],
      "source": [
        "# access set item using membership operator \"in\"\n",
        "'apple' in set1"
      ]
    },
    {
      "cell_type": "code",
      "execution_count": null,
      "id": "8edede29-0ce7-46c0-bb77-611f45f5a671",
      "metadata": {
        "id": "8edede29-0ce7-46c0-bb77-611f45f5a671"
      },
      "outputs": [],
      "source": [
        "set1.add('kiwi')"
      ]
    },
    {
      "cell_type": "code",
      "execution_count": null,
      "id": "2a6d1db3-d803-4c98-9d79-7821524f029e",
      "metadata": {
        "id": "2a6d1db3-d803-4c98-9d79-7821524f029e",
        "outputId": "dafdfe9c-1a47-4af2-910c-059cce1ffc0b"
      },
      "outputs": [
        {
          "data": {
            "text/plain": [
              "{(1, 4), 1, 2.5, 'apple', 'banana', 'kiwi', 'orange'}"
            ]
          },
          "execution_count": 100,
          "metadata": {},
          "output_type": "execute_result"
        }
      ],
      "source": [
        "set1"
      ]
    },
    {
      "cell_type": "code",
      "execution_count": null,
      "id": "244e180e-5ac0-4abc-8300-c8406cd5f8d2",
      "metadata": {
        "id": "244e180e-5ac0-4abc-8300-c8406cd5f8d2"
      },
      "outputs": [],
      "source": [
        "set2= {7,9.5,'strawberry'}"
      ]
    },
    {
      "cell_type": "code",
      "execution_count": null,
      "id": "484e4efb-da1b-48a9-b808-473c0668a5c4",
      "metadata": {
        "id": "484e4efb-da1b-48a9-b808-473c0668a5c4",
        "outputId": "9dcb1a53-f9e5-48db-bbe7-8431a162f69a"
      },
      "outputs": [
        {
          "data": {
            "text/plain": [
              "{7, 9.5, 'strawberry'}"
            ]
          },
          "execution_count": 128,
          "metadata": {},
          "output_type": "execute_result"
        }
      ],
      "source": [
        "set2"
      ]
    },
    {
      "cell_type": "code",
      "execution_count": null,
      "id": "670da572-73bc-4a3d-8e35-b20309a8fe5b",
      "metadata": {
        "id": "670da572-73bc-4a3d-8e35-b20309a8fe5b"
      },
      "outputs": [],
      "source": [
        "set1.update(set2)"
      ]
    },
    {
      "cell_type": "code",
      "execution_count": null,
      "id": "4295364d-12f5-43d8-90b1-0cb90318f042",
      "metadata": {
        "id": "4295364d-12f5-43d8-90b1-0cb90318f042",
        "outputId": "19b43525-89e8-4659-d7a6-f15faa103ea4"
      },
      "outputs": [
        {
          "data": {
            "text/plain": [
              "{(1, 4), 1, 2.5, 7, 9.5, 'apple', 'banana', 'kiwi', 'orange', 'strawberry'}"
            ]
          },
          "execution_count": 132,
          "metadata": {},
          "output_type": "execute_result"
        }
      ],
      "source": [
        "set1"
      ]
    },
    {
      "cell_type": "code",
      "execution_count": null,
      "id": "5cd2d3bd-14c6-46e8-9adb-dfde91695a70",
      "metadata": {
        "id": "5cd2d3bd-14c6-46e8-9adb-dfde91695a70"
      },
      "outputs": [],
      "source": [
        "set1.remove(1)"
      ]
    },
    {
      "cell_type": "code",
      "execution_count": null,
      "id": "4d57d2de-ef95-45ad-b5a3-7187f13e57b8",
      "metadata": {
        "id": "4d57d2de-ef95-45ad-b5a3-7187f13e57b8",
        "outputId": "f11f1beb-1b33-44c1-87a3-501f81e321b3"
      },
      "outputs": [
        {
          "data": {
            "text/plain": [
              "{(1, 4), 2.5, 7, 9.5, 'apple', 'banana', 'kiwi', 'orange', 'strawberry'}"
            ]
          },
          "execution_count": 136,
          "metadata": {},
          "output_type": "execute_result"
        }
      ],
      "source": [
        "set1"
      ]
    },
    {
      "cell_type": "code",
      "execution_count": null,
      "id": "941670db-0eb3-4c92-8c6d-5edb586bc1f3",
      "metadata": {
        "id": "941670db-0eb3-4c92-8c6d-5edb586bc1f3"
      },
      "outputs": [],
      "source": [
        "set1.remove((1,4))"
      ]
    },
    {
      "cell_type": "code",
      "execution_count": null,
      "id": "48a50084-2090-4798-8385-891d263d9924",
      "metadata": {
        "id": "48a50084-2090-4798-8385-891d263d9924",
        "outputId": "2d55b4cd-b6a9-4c20-9b1f-600f5bd1da03"
      },
      "outputs": [
        {
          "data": {
            "text/plain": [
              "{2.5, 7, 9.5, 'apple', 'banana', 'kiwi', 'orange', 'strawberry'}"
            ]
          },
          "execution_count": 140,
          "metadata": {},
          "output_type": "execute_result"
        }
      ],
      "source": [
        "set1"
      ]
    },
    {
      "cell_type": "code",
      "execution_count": null,
      "id": "b134340e-90c1-4818-8387-d725dde08e44",
      "metadata": {
        "id": "b134340e-90c1-4818-8387-d725dde08e44",
        "outputId": "8a74256c-74e1-49f9-9eef-5193daddacf4"
      },
      "outputs": [
        {
          "data": {
            "text/plain": [
              "'banana'"
            ]
          },
          "execution_count": 144,
          "metadata": {},
          "output_type": "execute_result"
        }
      ],
      "source": [
        "set1.pop()"
      ]
    },
    {
      "cell_type": "code",
      "execution_count": null,
      "id": "c05460eb-d4be-4d76-a026-cb53d4c8600e",
      "metadata": {
        "id": "c05460eb-d4be-4d76-a026-cb53d4c8600e",
        "outputId": "1625709c-81f4-41ac-bb74-f4838b726bde"
      },
      "outputs": [
        {
          "name": "stdout",
          "output_type": "stream",
          "text": [
            "2.5\n",
            "7\n",
            "9.5\n",
            "orange\n",
            "apple\n",
            "strawberry\n",
            "kiwi\n"
          ]
        }
      ],
      "source": [
        "# traverse a set\n",
        "for i in set1:\n",
        "    print(i)"
      ]
    },
    {
      "cell_type": "markdown",
      "id": "a1eb5a98-4bb0-4d2a-8809-60c232f27d69",
      "metadata": {
        "id": "a1eb5a98-4bb0-4d2a-8809-60c232f27d69"
      },
      "source": [
        "#### union()\n",
        "##### The union() method returns a new set with all items from both sets."
      ]
    },
    {
      "cell_type": "code",
      "execution_count": null,
      "id": "e57e80e9-ee67-45f5-b9f1-fbff35afc7dc",
      "metadata": {
        "id": "e57e80e9-ee67-45f5-b9f1-fbff35afc7dc",
        "outputId": "41d71b8f-d0a1-4b36-80c1-8c46a90c4aeb"
      },
      "outputs": [
        {
          "data": {
            "text/plain": [
              "{2.5, 7, 9.5, 'apple', 'kiwi', 'orange', 'strawberry'}"
            ]
          },
          "execution_count": 150,
          "metadata": {},
          "output_type": "execute_result"
        }
      ],
      "source": [
        "set1"
      ]
    },
    {
      "cell_type": "code",
      "execution_count": null,
      "id": "2080eb0c-0233-4612-9478-e5b7e1024496",
      "metadata": {
        "id": "2080eb0c-0233-4612-9478-e5b7e1024496",
        "outputId": "be7e75e7-b111-4c1e-a1fd-c7f6e801d3cf"
      },
      "outputs": [
        {
          "data": {
            "text/plain": [
              "{7, 9.5, 'strawberry'}"
            ]
          },
          "execution_count": 152,
          "metadata": {},
          "output_type": "execute_result"
        }
      ],
      "source": [
        "set2"
      ]
    },
    {
      "cell_type": "code",
      "execution_count": null,
      "id": "91b68cda-4fda-4a1b-bfcf-f1208513ec0c",
      "metadata": {
        "id": "91b68cda-4fda-4a1b-bfcf-f1208513ec0c",
        "outputId": "cf29d1d4-f283-4a50-a1f9-a669e18acea5"
      },
      "outputs": [
        {
          "data": {
            "text/plain": [
              "{2.5, 7, 9.5, 'apple', 'kiwi', 'orange', 'strawberry'}"
            ]
          },
          "execution_count": 154,
          "metadata": {},
          "output_type": "execute_result"
        }
      ],
      "source": [
        "set1.union(set2)"
      ]
    },
    {
      "cell_type": "code",
      "execution_count": null,
      "id": "2fd7a33b-cac4-4b34-bf6f-55ebd2faf39f",
      "metadata": {
        "id": "2fd7a33b-cac4-4b34-bf6f-55ebd2faf39f",
        "outputId": "de502376-38c2-4744-d324-f5cbf7b75530"
      },
      "outputs": [
        {
          "data": {
            "text/plain": [
              "{2.5, 7, 9.5, 'apple', 'kiwi', 'orange', 'strawberry'}"
            ]
          },
          "execution_count": 156,
          "metadata": {},
          "output_type": "execute_result"
        }
      ],
      "source": [
        "set1 | set2"
      ]
    },
    {
      "cell_type": "code",
      "execution_count": null,
      "id": "c3950888-4663-404f-acaa-b63099ba122a",
      "metadata": {
        "id": "c3950888-4663-404f-acaa-b63099ba122a"
      },
      "outputs": [],
      "source": [
        "set3= {'sachin','yuvraj','dhoni'}"
      ]
    },
    {
      "cell_type": "code",
      "execution_count": null,
      "id": "c54b8667-eb7a-43db-8da7-b3f04e095a80",
      "metadata": {
        "id": "c54b8667-eb7a-43db-8da7-b3f04e095a80",
        "outputId": "7b882fc8-a357-4a76-d830-b60700929187"
      },
      "outputs": [
        {
          "data": {
            "text/plain": [
              "{2.5,\n",
              " 7,\n",
              " 9.5,\n",
              " 'apple',\n",
              " 'dhoni',\n",
              " 'kiwi',\n",
              " 'orange',\n",
              " 'sachin',\n",
              " 'strawberry',\n",
              " 'yuvraj'}"
            ]
          },
          "execution_count": 160,
          "metadata": {},
          "output_type": "execute_result"
        }
      ],
      "source": [
        "# Join multiple sets with the union() method:\n",
        "set1.union(set2,set3)"
      ]
    },
    {
      "cell_type": "markdown",
      "id": "d48edc66-52df-4ddd-b0b2-2b6f80c0d435",
      "metadata": {
        "id": "d48edc66-52df-4ddd-b0b2-2b6f80c0d435"
      },
      "source": [
        "#### Intersection\n",
        "##### Keep ONLY the duplicates\n",
        "\n",
        "##### The intersection() method will return a new set, that only contains the items that are present in both sets."
      ]
    },
    {
      "cell_type": "code",
      "execution_count": null,
      "id": "64586100-901a-4d88-b252-be1220f2b5b1",
      "metadata": {
        "id": "64586100-901a-4d88-b252-be1220f2b5b1",
        "outputId": "b4352570-b19a-4278-cca6-8d5414831579"
      },
      "outputs": [
        {
          "data": {
            "text/plain": [
              "{7, 9.5, 'strawberry'}"
            ]
          },
          "execution_count": 165,
          "metadata": {},
          "output_type": "execute_result"
        }
      ],
      "source": [
        "set1.intersection(set2)"
      ]
    },
    {
      "cell_type": "code",
      "execution_count": null,
      "id": "cc687613-936c-41b1-8b53-2ec4621e4138",
      "metadata": {
        "id": "cc687613-936c-41b1-8b53-2ec4621e4138",
        "outputId": "d4c9e33b-881d-4692-e429-9a4c326f21de"
      },
      "outputs": [
        {
          "data": {
            "text/plain": [
              "{7, 9.5, 'strawberry'}"
            ]
          },
          "execution_count": 171,
          "metadata": {},
          "output_type": "execute_result"
        }
      ],
      "source": [
        "set1 & set2"
      ]
    },
    {
      "cell_type": "markdown",
      "id": "7b4f5f60-34e2-4d09-80f6-dfdd0f910aad",
      "metadata": {
        "id": "7b4f5f60-34e2-4d09-80f6-dfdd0f910aad"
      },
      "source": [
        "#### Difference\n",
        "##### The difference() method will return a new set that will contain only the items from the first set that are not present in the other set."
      ]
    },
    {
      "cell_type": "code",
      "execution_count": null,
      "id": "eb0d4f02-7205-4b82-b4a9-28e4cf84e0f2",
      "metadata": {
        "id": "eb0d4f02-7205-4b82-b4a9-28e4cf84e0f2",
        "outputId": "667ddf16-39ba-4625-8111-959090c798d7"
      },
      "outputs": [
        {
          "data": {
            "text/plain": [
              "{2.5, 7, 9.5, 'apple', 'kiwi', 'orange', 'strawberry'}"
            ]
          },
          "execution_count": 174,
          "metadata": {},
          "output_type": "execute_result"
        }
      ],
      "source": [
        "set1"
      ]
    },
    {
      "cell_type": "code",
      "execution_count": null,
      "id": "d425eadf-e2e2-465a-81e3-3b094145c491",
      "metadata": {
        "id": "d425eadf-e2e2-465a-81e3-3b094145c491",
        "outputId": "6b24ba94-6933-407e-95d5-5db8bb5ad90b"
      },
      "outputs": [
        {
          "data": {
            "text/plain": [
              "{7, 9.5, 'strawberry'}"
            ]
          },
          "execution_count": 176,
          "metadata": {},
          "output_type": "execute_result"
        }
      ],
      "source": [
        "set2"
      ]
    },
    {
      "cell_type": "code",
      "execution_count": null,
      "id": "44d5a73e-3619-4b34-8df1-9eac4ebabd3f",
      "metadata": {
        "id": "44d5a73e-3619-4b34-8df1-9eac4ebabd3f",
        "outputId": "23712538-034b-488e-ae30-f7c65912db5b"
      },
      "outputs": [
        {
          "data": {
            "text/plain": [
              "{2.5, 'apple', 'kiwi', 'orange'}"
            ]
          },
          "execution_count": 178,
          "metadata": {},
          "output_type": "execute_result"
        }
      ],
      "source": [
        "set1.difference(set2)   #output:"
      ]
    },
    {
      "cell_type": "code",
      "execution_count": null,
      "id": "0eff18df-7027-4047-8c41-6bba0f71b67e",
      "metadata": {
        "id": "0eff18df-7027-4047-8c41-6bba0f71b67e",
        "outputId": "784e1d6c-0e0d-4a22-de71-660e451d473e"
      },
      "outputs": [
        {
          "data": {
            "text/plain": [
              "{2.5, 'apple', 'kiwi', 'orange'}"
            ]
          },
          "execution_count": 180,
          "metadata": {},
          "output_type": "execute_result"
        }
      ],
      "source": [
        "set1-set2"
      ]
    },
    {
      "cell_type": "markdown",
      "id": "fb11c81a-d64d-4e84-a164-40ec2c025fa8",
      "metadata": {
        "id": "fb11c81a-d64d-4e84-a164-40ec2c025fa8"
      },
      "source": [
        "##### Use the difference_update() method to keep the items that are not present in both sets"
      ]
    },
    {
      "cell_type": "code",
      "execution_count": null,
      "id": "c367eeca-c041-4493-83b6-b574519f133a",
      "metadata": {
        "id": "c367eeca-c041-4493-83b6-b574519f133a",
        "outputId": "8ba45ce3-5a7a-439f-e445-c765827b16bd"
      },
      "outputs": [
        {
          "data": {
            "text/plain": [
              "{2.5, 7, 9.5, 'apple', 'kiwi', 'orange', 'strawberry'}"
            ]
          },
          "execution_count": 183,
          "metadata": {},
          "output_type": "execute_result"
        }
      ],
      "source": [
        "set1"
      ]
    },
    {
      "cell_type": "code",
      "execution_count": null,
      "id": "f8573315-7c5c-4b1c-8739-ce81df8d49d3",
      "metadata": {
        "id": "f8573315-7c5c-4b1c-8739-ce81df8d49d3",
        "outputId": "be7e1921-c519-4553-fe64-2b09d681b597"
      },
      "outputs": [
        {
          "data": {
            "text/plain": [
              "{7, 9.5, 'strawberry'}"
            ]
          },
          "execution_count": 185,
          "metadata": {},
          "output_type": "execute_result"
        }
      ],
      "source": [
        "set2"
      ]
    },
    {
      "cell_type": "code",
      "execution_count": null,
      "id": "108dd918-0dbd-4335-99fa-fb77d908fd8a",
      "metadata": {
        "id": "108dd918-0dbd-4335-99fa-fb77d908fd8a"
      },
      "outputs": [],
      "source": [
        "set1.difference_update(set2)"
      ]
    },
    {
      "cell_type": "code",
      "execution_count": null,
      "id": "0cba9e96-7a9a-44ec-88a4-9094ea87f315",
      "metadata": {
        "id": "0cba9e96-7a9a-44ec-88a4-9094ea87f315",
        "outputId": "0233a1f3-0ad5-462e-8ee0-9bbc7ef5bb2f"
      },
      "outputs": [
        {
          "data": {
            "text/plain": [
              "{2.5, 'apple', 'kiwi', 'orange'}"
            ]
          },
          "execution_count": 189,
          "metadata": {},
          "output_type": "execute_result"
        }
      ],
      "source": [
        "set1"
      ]
    },
    {
      "cell_type": "code",
      "execution_count": null,
      "id": "dd16a91b-6d25-4311-bc93-2cf99fcf4801",
      "metadata": {
        "id": "dd16a91b-6d25-4311-bc93-2cf99fcf4801",
        "outputId": "e9026f9d-a0a9-4009-96da-aa4a3015efc3"
      },
      "outputs": [
        {
          "data": {
            "text/plain": [
              "{2.5, 'apple', 'kiwi', 'orange'}"
            ]
          },
          "execution_count": 191,
          "metadata": {},
          "output_type": "execute_result"
        }
      ],
      "source": [
        "set1"
      ]
    },
    {
      "cell_type": "markdown",
      "id": "99c7a9d7-a9d0-4305-8143-d120a5e5ad65",
      "metadata": {
        "id": "99c7a9d7-a9d0-4305-8143-d120a5e5ad65"
      },
      "source": [
        "##### The symmetric_difference() method will keep only the elements that are NOT present in both sets."
      ]
    },
    {
      "cell_type": "code",
      "execution_count": null,
      "id": "810a000c-79de-4f30-83d3-e6d46f16c27a",
      "metadata": {
        "id": "810a000c-79de-4f30-83d3-e6d46f16c27a",
        "outputId": "bbf5bfa1-dfcc-465a-e548-bf24d3aebf8e"
      },
      "outputs": [
        {
          "data": {
            "text/plain": [
              "{(1, 4), 1, 2.5, 'apple', 'banana', 'orange'}"
            ]
          },
          "execution_count": 196,
          "metadata": {},
          "output_type": "execute_result"
        }
      ],
      "source": [
        "set1"
      ]
    },
    {
      "cell_type": "code",
      "execution_count": null,
      "id": "72195b06-ebd5-4bfc-a66b-4d8f575c88dc",
      "metadata": {
        "id": "72195b06-ebd5-4bfc-a66b-4d8f575c88dc",
        "outputId": "9dff38e3-65d6-425f-b612-dbcd5b3bdaf0"
      },
      "outputs": [
        {
          "data": {
            "text/plain": [
              "{7, 9.5, 'strawberry'}"
            ]
          },
          "execution_count": 198,
          "metadata": {},
          "output_type": "execute_result"
        }
      ],
      "source": [
        "set2"
      ]
    },
    {
      "cell_type": "code",
      "execution_count": null,
      "id": "5dda0a30-8dc9-4ba0-b8ae-bd104ca620ff",
      "metadata": {
        "id": "5dda0a30-8dc9-4ba0-b8ae-bd104ca620ff",
        "outputId": "3664b31d-7bc2-421f-c061-4075867829de"
      },
      "outputs": [
        {
          "data": {
            "text/plain": [
              "{(1, 4), 1, 2.5, 7, 9.5, 'apple', 'banana', 'orange', 'strawberry'}"
            ]
          },
          "execution_count": 200,
          "metadata": {},
          "output_type": "execute_result"
        }
      ],
      "source": [
        "set1.symmetric_difference(set2)"
      ]
    },
    {
      "cell_type": "code",
      "execution_count": null,
      "id": "20bea5a9-c2ee-4572-b299-2ec72b896731",
      "metadata": {
        "id": "20bea5a9-c2ee-4572-b299-2ec72b896731",
        "outputId": "99b67fd4-f8e2-4bf5-f395-86c38aac0598"
      },
      "outputs": [
        {
          "data": {
            "text/plain": [
              "{(1, 4), 1, 2.5, 7, 9.5, 'apple', 'banana', 'orange', 'strawberry'}"
            ]
          },
          "execution_count": 202,
          "metadata": {},
          "output_type": "execute_result"
        }
      ],
      "source": [
        "set1 ^ set2"
      ]
    },
    {
      "cell_type": "markdown",
      "id": "e466e0d5-6389-4f3f-889c-a4ad6cc44204",
      "metadata": {
        "id": "e466e0d5-6389-4f3f-889c-a4ad6cc44204"
      },
      "source": [
        "#### Function\n",
        "##### A function is a block of code which only runs when it is called.\n",
        "##### You can pass data, known as parameters, into a function.\n",
        "##### A function can return data as a result."
      ]
    },
    {
      "cell_type": "markdown",
      "id": "015922a9-1983-4773-999a-e712cf201db0",
      "metadata": {
        "id": "015922a9-1983-4773-999a-e712cf201db0"
      },
      "source": [
        "##### Creating a Function"
      ]
    },
    {
      "cell_type": "code",
      "execution_count": null,
      "id": "9aef91a7-0e92-4175-a563-5fd6b9548ebb",
      "metadata": {
        "id": "9aef91a7-0e92-4175-a563-5fd6b9548ebb"
      },
      "outputs": [],
      "source": [
        "def my_function():\n",
        "  print(\"hello world\")"
      ]
    },
    {
      "cell_type": "markdown",
      "id": "d4ba8bde-052c-4980-81bf-450a5a37b5bc",
      "metadata": {
        "id": "d4ba8bde-052c-4980-81bf-450a5a37b5bc"
      },
      "source": [
        "#### Calling a Function\n",
        "##### To call a function, use the function name followed by parenthesis:"
      ]
    },
    {
      "cell_type": "code",
      "execution_count": null,
      "id": "f0ed576a-bfe3-42d2-a376-c289fdc60da4",
      "metadata": {
        "id": "f0ed576a-bfe3-42d2-a376-c289fdc60da4",
        "outputId": "9e4c5c73-e2eb-4f0b-d0c8-e28dfc714b42"
      },
      "outputs": [
        {
          "name": "stdout",
          "output_type": "stream",
          "text": [
            "hello world\n"
          ]
        }
      ],
      "source": [
        "my_function()"
      ]
    },
    {
      "cell_type": "markdown",
      "id": "e9a60d00-2de1-49ab-b7fc-904525c45750",
      "metadata": {
        "id": "e9a60d00-2de1-49ab-b7fc-904525c45750"
      },
      "source": [
        "#### Arguments\n",
        "##### Information can be passed into functions as arguments.\n",
        "\n",
        "##### Arguments are specified after the function name, inside the parentheses.\n",
        "##### You can add as many arguments as you want, just separate them with a comma.\n",
        "\n",
        "##### The following example has a function with one argument (fname).\n",
        "##### When the function is called, we pass along a first name, which is used inside the function to print the full name:"
      ]
    },
    {
      "cell_type": "code",
      "execution_count": null,
      "id": "d297fbde-3163-483a-ba12-11d7a7f216d0",
      "metadata": {
        "id": "d297fbde-3163-483a-ba12-11d7a7f216d0",
        "outputId": "08ef025f-fdc7-4eb6-8f6f-221a70663df3"
      },
      "outputs": [
        {
          "name": "stdout",
          "output_type": "stream",
          "text": [
            "Harsh\n",
            "Subham \n",
            "Saurabh\n"
          ]
        }
      ],
      "source": [
        "def my_function(fname):  # fname is parameter\n",
        "  print(fname)\n",
        "\n",
        "my_function(\"Harsh\")         # harsh is argument\n",
        "my_function(\"Subham \")\n",
        "my_function(\"Saurabh\")"
      ]
    },
    {
      "cell_type": "markdown",
      "id": "43536525-3b86-41da-8564-97144b6c2993",
      "metadata": {
        "id": "43536525-3b86-41da-8564-97144b6c2993"
      },
      "source": [
        "##### Parameters or Arguments?\n",
        "##### The terms parameter and argument can be used for the same thing: information that are passed into a function."
      ]
    },
    {
      "cell_type": "code",
      "execution_count": null,
      "id": "e37f2925-b83c-44a8-bda7-7525089eb0d9",
      "metadata": {
        "id": "e37f2925-b83c-44a8-bda7-7525089eb0d9",
        "outputId": "1e6e4af9-fe24-42c9-c540-297a9a213ee2"
      },
      "outputs": [
        {
          "ename": "TypeError",
          "evalue": "my_function() missing 1 required positional argument: 'lname'",
          "output_type": "error",
          "traceback": [
            "\u001b[1;31m---------------------------------------------------------------------------\u001b[0m",
            "\u001b[1;31mTypeError\u001b[0m                                 Traceback (most recent call last)",
            "Cell \u001b[1;32mIn[15], line 4\u001b[0m\n\u001b[0;32m      1\u001b[0m \u001b[38;5;28;01mdef\u001b[39;00m \u001b[38;5;21mmy_function\u001b[39m(fname, lname):\n\u001b[0;32m      2\u001b[0m   \u001b[38;5;28mprint\u001b[39m(fname \u001b[38;5;241m+\u001b[39m \u001b[38;5;124m\"\u001b[39m\u001b[38;5;124m \u001b[39m\u001b[38;5;124m\"\u001b[39m \u001b[38;5;241m+\u001b[39m lname)\n\u001b[1;32m----> 4\u001b[0m my_function(\u001b[38;5;124m\"\u001b[39m\u001b[38;5;124mHarsh\u001b[39m\u001b[38;5;124m\"\u001b[39m)\n",
            "\u001b[1;31mTypeError\u001b[0m: my_function() missing 1 required positional argument: 'lname'"
          ]
        }
      ],
      "source": [
        "def my_function(fname, lname):\n",
        "  print(fname + \" \" + lname)\n",
        "\n",
        "my_function(\"Harsh\")"
      ]
    },
    {
      "cell_type": "markdown",
      "id": "693eb6f2-b7cc-4e9a-9b55-84a923b29e0e",
      "metadata": {
        "id": "693eb6f2-b7cc-4e9a-9b55-84a923b29e0e"
      },
      "source": [
        "#### Arbitrary Arguments, *args\n",
        "##### If you do not know how many arguments that will be passed into your function, add a * before the parameter name in the function definition.\n",
        "\n",
        "##### This way the function will receive a tuple of arguments, and can access the items accordingly:"
      ]
    },
    {
      "cell_type": "code",
      "execution_count": null,
      "id": "f5281a63-64da-43df-85c7-3a91f542d431",
      "metadata": {
        "id": "f5281a63-64da-43df-85c7-3a91f542d431",
        "outputId": "08edfc66-c27d-44f0-d8f1-24f09093972a"
      },
      "outputs": [
        {
          "name": "stdout",
          "output_type": "stream",
          "text": [
            "The youngest student is Kanishk\n"
          ]
        }
      ],
      "source": [
        "def my_function(*student):\n",
        "  print(\"The youngest student is \" + student[2])\n",
        "\n",
        "my_function(\"Harsh\", \"Garv\", \"Kanishk\")\n",
        "#Arbitrary Arguments are often shortened to *arg"
      ]
    },
    {
      "cell_type": "markdown",
      "id": "10795a3a-b663-413f-a37c-988aac4646d9",
      "metadata": {
        "id": "10795a3a-b663-413f-a37c-988aac4646d9"
      },
      "source": [
        "#### Keyword Arguments\n",
        "##### You can also send arguments with the key = value syntax.\n",
        "##### This way the order of the arguments does not matter."
      ]
    },
    {
      "cell_type": "code",
      "execution_count": null,
      "id": "1e536693-c0aa-4672-8e6c-3badb03a7bdd",
      "metadata": {
        "id": "1e536693-c0aa-4672-8e6c-3badb03a7bdd",
        "outputId": "42cba2ac-72fb-4e2c-db32-87042b007ff0"
      },
      "outputs": [
        {
          "name": "stdout",
          "output_type": "stream",
          "text": [
            "The youngest student is Harleen\n"
          ]
        }
      ],
      "source": [
        "def my_function(student1, student2, student3):\n",
        "  print(\"The youngest student is \" + student3)\n",
        "\n",
        "my_function(student1 = \"Aayushi\", student2 = \"Mansi\", student3 = \"Harleen\")\n"
      ]
    },
    {
      "cell_type": "markdown",
      "id": "756e567c-3adf-4fcb-9531-9eff01be1481",
      "metadata": {
        "id": "756e567c-3adf-4fcb-9531-9eff01be1481"
      },
      "source": [
        "#### Arbitrary Keyword Arguments, **kwargs\n",
        "##### If you do not know how many keyword arguments that will be passed into your function, add two asterisk: ** before the parameter name in the function definition.\n",
        "\n",
        "##### This way the function will receive a dictionary of arguments, and can access the items accordingly:"
      ]
    },
    {
      "cell_type": "code",
      "execution_count": null,
      "id": "2531e7ad-0273-46ee-8cfb-5aa29b21c0be",
      "metadata": {
        "id": "2531e7ad-0273-46ee-8cfb-5aa29b21c0be",
        "outputId": "70697957-73ff-4007-e012-2cdc30ba72d9"
      },
      "outputs": [
        {
          "name": "stdout",
          "output_type": "stream",
          "text": [
            "His last name is Refsnes\n"
          ]
        }
      ],
      "source": [
        "def my_function(**student):\n",
        "  print(\"His last name is \" + student[\"lname\"])\n",
        "\n",
        "my_function(fname = \"Tobias\", lname = \"Refsnes\")"
      ]
    },
    {
      "cell_type": "markdown",
      "id": "25cc86e7-727e-4a2a-9de1-b243de3244e1",
      "metadata": {
        "id": "25cc86e7-727e-4a2a-9de1-b243de3244e1"
      },
      "source": [
        "#### Default Parameter Value\n",
        "##### The following example shows how to use a default parameter value.\n",
        "\n",
        "##### If we call the function without argument, it uses the default value:"
      ]
    },
    {
      "cell_type": "code",
      "execution_count": null,
      "id": "869e9d27-2d94-48d3-b84e-7816757b70d4",
      "metadata": {
        "id": "869e9d27-2d94-48d3-b84e-7816757b70d4",
        "outputId": "b093f615-8aeb-4709-ee50-bb02c2ee9c86"
      },
      "outputs": [
        {
          "name": "stdout",
          "output_type": "stream",
          "text": [
            "I am from Sweden\n",
            "I am from India\n",
            "I am from Norway\n",
            "I am from Brazil\n"
          ]
        }
      ],
      "source": [
        "def my_function(country = \"Norway\"):\n",
        "  print(\"I am from \" + country)\n",
        "\n",
        "my_function(\"Sweden\")\n",
        "my_function(\"India\")\n",
        "my_function()\n",
        "my_function(\"Brazil\")"
      ]
    },
    {
      "cell_type": "markdown",
      "id": "c8ebc9ce-36cb-4d99-b6a9-2ae96d6b93b1",
      "metadata": {
        "id": "c8ebc9ce-36cb-4d99-b6a9-2ae96d6b93b1"
      },
      "source": [
        "#### Return Values\n",
        "##### To let a function return a value, use the return statement:\n"
      ]
    },
    {
      "cell_type": "code",
      "execution_count": null,
      "id": "7bc42fcd-b149-4974-8ce3-c7a678c7cf78",
      "metadata": {
        "id": "7bc42fcd-b149-4974-8ce3-c7a678c7cf78",
        "outputId": "3ea9efe3-49f2-4024-de79-fa279723bf9b"
      },
      "outputs": [
        {
          "name": "stdout",
          "output_type": "stream",
          "text": [
            "25\n",
            "50\n",
            "75\n"
          ]
        }
      ],
      "source": [
        "def my_function(x): #x=10\n",
        "  return 5 * x\n",
        "\n",
        "print(my_function(5))\n",
        "print(my_function(10))\n",
        "print(my_function(15))"
      ]
    },
    {
      "cell_type": "markdown",
      "id": "09493f25-4308-44b3-96e8-322ab9c83aef",
      "metadata": {
        "id": "09493f25-4308-44b3-96e8-322ab9c83aef"
      },
      "source": [
        "#### Positional-Only Arguments\n",
        "##### You can specify that a function can have ONLY positional arguments, or ONLY keyword arguments.\n",
        "##### To specify that a function can have only positional arguments, add , / after the arguments:"
      ]
    },
    {
      "cell_type": "code",
      "execution_count": null,
      "id": "61ed6230-3ed6-4f75-8c35-37daf3310476",
      "metadata": {
        "id": "61ed6230-3ed6-4f75-8c35-37daf3310476",
        "outputId": "c08cb655-f509-4f11-8132-003a9542c30d"
      },
      "outputs": [
        {
          "name": "stdout",
          "output_type": "stream",
          "text": [
            "3\n"
          ]
        }
      ],
      "source": [
        "def my_function(x, /):\n",
        "  print(x)\n",
        "\n",
        "my_function(3)"
      ]
    },
    {
      "cell_type": "code",
      "execution_count": null,
      "id": "1e2a35fa-790b-44cf-a03c-4d71666b57e6",
      "metadata": {
        "id": "1e2a35fa-790b-44cf-a03c-4d71666b57e6",
        "outputId": "ffa231ff-7f7a-48f5-ec44-658cf65d16f7"
      },
      "outputs": [
        {
          "ename": "TypeError",
          "evalue": "my_function() got some positional-only arguments passed as keyword arguments: 'x'",
          "output_type": "error",
          "traceback": [
            "\u001b[1;31m---------------------------------------------------------------------------\u001b[0m",
            "\u001b[1;31mTypeError\u001b[0m                                 Traceback (most recent call last)",
            "Cell \u001b[1;32mIn[53], line 6\u001b[0m\n\u001b[0;32m      3\u001b[0m \u001b[38;5;28;01mdef\u001b[39;00m \u001b[38;5;21mmy_function\u001b[39m(x, \u001b[38;5;241m/\u001b[39m):\n\u001b[0;32m      4\u001b[0m   \u001b[38;5;28mprint\u001b[39m(x)\n\u001b[1;32m----> 6\u001b[0m my_function(x \u001b[38;5;241m=\u001b[39m \u001b[38;5;241m3\u001b[39m)\n",
            "\u001b[1;31mTypeError\u001b[0m: my_function() got some positional-only arguments passed as keyword arguments: 'x'"
          ]
        }
      ],
      "source": [
        "# But when adding the , / you will get an error if you try to send a keyword argument:\n",
        "\n",
        "def my_function(x, /):\n",
        "  print(x)\n",
        "\n",
        "my_function(x = 3)"
      ]
    },
    {
      "cell_type": "markdown",
      "id": "e8dbfb9e-3dd2-4991-bf56-bdf1796a623e",
      "metadata": {
        "id": "e8dbfb9e-3dd2-4991-bf56-bdf1796a623e"
      },
      "source": [
        "#### Keyword-Only Arguments\n",
        "##### To specify that a function can have only keyword arguments, add *, before the arguments:"
      ]
    },
    {
      "cell_type": "code",
      "execution_count": null,
      "id": "d6b66ed8-8673-4c96-89ff-46f1399d915a",
      "metadata": {
        "id": "d6b66ed8-8673-4c96-89ff-46f1399d915a",
        "outputId": "3730e011-2f08-47f0-dd2a-932a7eb5be00"
      },
      "outputs": [
        {
          "name": "stdout",
          "output_type": "stream",
          "text": [
            "3\n"
          ]
        }
      ],
      "source": [
        "def my_function(*, x):\n",
        "  print(x)\n",
        "\n",
        "my_function(x = 3)"
      ]
    },
    {
      "cell_type": "code",
      "execution_count": null,
      "id": "466a9b70-84e2-461d-9e23-9e4b5bfeed37",
      "metadata": {
        "id": "466a9b70-84e2-461d-9e23-9e4b5bfeed37",
        "outputId": "d6e4b524-cc3e-4b98-d07c-b0615e383225"
      },
      "outputs": [
        {
          "ename": "TypeError",
          "evalue": "my_function() takes 0 positional arguments but 1 was given",
          "output_type": "error",
          "traceback": [
            "\u001b[1;31m---------------------------------------------------------------------------\u001b[0m",
            "\u001b[1;31mTypeError\u001b[0m                                 Traceback (most recent call last)",
            "Cell \u001b[1;32mIn[95], line 4\u001b[0m\n\u001b[0;32m      1\u001b[0m \u001b[38;5;28;01mdef\u001b[39;00m \u001b[38;5;21mmy_function\u001b[39m(\u001b[38;5;241m*\u001b[39m, x):\n\u001b[0;32m      2\u001b[0m   \u001b[38;5;28mprint\u001b[39m(x)\n\u001b[1;32m----> 4\u001b[0m my_function(\u001b[38;5;241m3\u001b[39m)\n",
            "\u001b[1;31mTypeError\u001b[0m: my_function() takes 0 positional arguments but 1 was given"
          ]
        }
      ],
      "source": [
        "def my_function(*, x):\n",
        "  print(x)\n",
        "\n",
        "my_function(3)"
      ]
    },
    {
      "cell_type": "markdown",
      "id": "79a149c4-2d7f-4652-a230-7c0f219f01cb",
      "metadata": {
        "id": "79a149c4-2d7f-4652-a230-7c0f219f01cb"
      },
      "source": [
        "#### Combine Positional-Only and Keyword-Only\n",
        "##### You can combine the two argument types in the same function.\n",
        "\n",
        "##### Any argument before the / , are positional-only, and any argument after the *, are keyword-only."
      ]
    },
    {
      "cell_type": "code",
      "execution_count": null,
      "id": "3368006a-b5fd-4f81-aa5a-fcdfd5492873",
      "metadata": {
        "id": "3368006a-b5fd-4f81-aa5a-fcdfd5492873",
        "outputId": "1854de5e-fbed-4714-b96a-fc5ae3596a1f"
      },
      "outputs": [
        {
          "name": "stdout",
          "output_type": "stream",
          "text": [
            "26\n"
          ]
        }
      ],
      "source": [
        "def my_function(a, b, /, *, c, d):\n",
        "  print(a + b + c + d)\n",
        "\n",
        "my_function(5, 6, c = 7, d = 8)"
      ]
    },
    {
      "cell_type": "code",
      "execution_count": null,
      "id": "feb8413e-95ad-418c-a636-844d04b45229",
      "metadata": {
        "id": "feb8413e-95ad-418c-a636-844d04b45229",
        "outputId": "1592b0e4-03a0-4e47-819f-31e241aed8c4"
      },
      "outputs": [
        {
          "ename": "SyntaxError",
          "evalue": "positional argument follows keyword argument (733810880.py, line 4)",
          "output_type": "error",
          "traceback": [
            "\u001b[1;36m  Cell \u001b[1;32mIn[103], line 4\u001b[1;36m\u001b[0m\n\u001b[1;33m    my_function(a=5, 6, c = 7, d = 8)\u001b[0m\n\u001b[1;37m                                    ^\u001b[0m\n\u001b[1;31mSyntaxError\u001b[0m\u001b[1;31m:\u001b[0m positional argument follows keyword argument\n"
          ]
        }
      ],
      "source": [
        "def my_function(a, b, /, *, c, d):\n",
        "  print(a + b + c + d)\n",
        "\n",
        "my_function(a=5, 6, c = 7, d = 8)"
      ]
    },
    {
      "cell_type": "markdown",
      "id": "4ecbec5a-63bc-43c3-a5aa-896a132c54d5",
      "metadata": {
        "id": "4ecbec5a-63bc-43c3-a5aa-896a132c54d5"
      },
      "source": [
        "#### Lambda\n",
        "##### A lambda function is a small anonymous function.\n",
        "##### A lambda function can take any number of arguments, but can only have one expression.\n",
        "\n"
      ]
    },
    {
      "cell_type": "code",
      "execution_count": null,
      "id": "cbe564b5-6146-4f84-93bb-1afaeca715c6",
      "metadata": {
        "id": "cbe564b5-6146-4f84-93bb-1afaeca715c6"
      },
      "outputs": [],
      "source": [
        "# syntax\n",
        "#lambda arguments : expression"
      ]
    },
    {
      "cell_type": "code",
      "execution_count": null,
      "id": "98220d1a-0f92-42e9-8597-5a5d1776461e",
      "metadata": {
        "id": "98220d1a-0f92-42e9-8597-5a5d1776461e",
        "outputId": "658f3e02-7ed7-4d1f-e09d-7c29d3cbbe9e"
      },
      "outputs": [
        {
          "name": "stdout",
          "output_type": "stream",
          "text": [
            "15\n"
          ]
        }
      ],
      "source": [
        "# lambda arguments : expression\n",
        "# Add 10 to argument a, and return the result:\n",
        "\n",
        "x = lambda a : a + 10\n",
        "print(x(5))\n"
      ]
    },
    {
      "cell_type": "code",
      "execution_count": null,
      "id": "3aff6b09-a94e-4f94-bbb2-8ffeb3c6f089",
      "metadata": {
        "id": "3aff6b09-a94e-4f94-bbb2-8ffeb3c6f089",
        "outputId": "6c624a3f-1ee2-40d9-bcb5-23ce4b85b113"
      },
      "outputs": [
        {
          "name": "stdout",
          "output_type": "stream",
          "text": [
            "30\n"
          ]
        }
      ],
      "source": [
        "# Multiply argument a with argument b and return the result:\n",
        "\n",
        "x = lambda a, b : a * b\n",
        "print(x(5, 6))"
      ]
    },
    {
      "cell_type": "markdown",
      "id": "02c69a8a-2c0b-4f93-96be-4c114bb09505",
      "metadata": {
        "id": "02c69a8a-2c0b-4f93-96be-4c114bb09505"
      },
      "source": [
        "#### Why Use Lambda Functions?\n",
        "##### The power of lambda is better shown when you use them as an anonymous function inside another function.\n",
        "\n",
        "##### Say you have a function definition that takes one argument, and that argument will be multiplied with an unknown number:\n"
      ]
    },
    {
      "cell_type": "code",
      "execution_count": null,
      "id": "29fead76-05e3-4a5d-9ca7-ab73f324cb00",
      "metadata": {
        "id": "29fead76-05e3-4a5d-9ca7-ab73f324cb00",
        "outputId": "724444c6-e76f-49b2-ad8c-2adb21d2b8f9"
      },
      "outputs": [
        {
          "name": "stdout",
          "output_type": "stream",
          "text": [
            "22\n"
          ]
        }
      ],
      "source": [
        "def myfunc(n):          #n=2\n",
        "  return lambda a : a * n\n",
        "\n",
        "temp = myfunc(2)\n",
        "\n",
        "print(temp(11))"
      ]
    },
    {
      "cell_type": "code",
      "execution_count": null,
      "id": "9fed2516-4632-4401-87d4-a725d752121d",
      "metadata": {
        "id": "9fed2516-4632-4401-87d4-a725d752121d"
      },
      "outputs": [],
      "source": [
        "#Create a program that takes a list of tuples (name, score) and builds a dictionary\n",
        "#where each name is a key, and the value is a list of all their scores. Then calculate and print\n",
        "#each person's average score."
      ]
    },
    {
      "cell_type": "code",
      "execution_count": null,
      "id": "4e6914ab-c8fa-4422-a7ce-89d8dcbe1b9a",
      "metadata": {
        "id": "4e6914ab-c8fa-4422-a7ce-89d8dcbe1b9a"
      },
      "outputs": [],
      "source": [
        "student= {\"yukta\":{\"maths\":50),\"Science\":50,\"English\":50,\"Computer\":50)},\n",
        "          \"Sahil\":{\"maths\":50),\"Science\":50,\"English\":50,\"Computer\":50)},\n",
        "          \"Yuvraj\":{\"maths\":50),\"Science\":50,\"English\":50,\"Computer\":50)},\n",
        "          \"Garv\":{\"maths\":50),\"Science\":50,\"English\":50,\"Computer\":50)}}"
      ]
    },
    {
      "cell_type": "code",
      "execution_count": null,
      "id": "41e352c3-0560-4d47-b922-cac1461dce39",
      "metadata": {
        "id": "41e352c3-0560-4d47-b922-cac1461dce39",
        "outputId": "7816b1b2-c6a1-4a12-8c94-02d0c9aeb12e"
      },
      "outputs": [
        {
          "name": "stdout",
          "output_type": "stream",
          "text": [
            "z:68.00\n",
            "x:59.00\n",
            "c:86.00\n",
            "v:68.50\n"
          ]
        }
      ],
      "source": [
        "l=[(\"z\",91),\n",
        "   (\"z\",45),\n",
        "   (\"x\",76),\n",
        "   (\"x\",42),\n",
        "   (\"c\",89),\n",
        "   (\"c\",83),\n",
        "   (\"v\",47),\n",
        "   (\"v\",90)]\n",
        "\n",
        "d={}   # d= {z:[91,45],x:[76,42],c:[89,83],v:[47,90]}\n",
        "\n",
        "for i,j in l:\n",
        "  if i in d:\n",
        "    d[i].append(j)\n",
        "  else:\n",
        "    d[i]=[j]\n",
        "\n",
        "\n",
        "for i,j in d.items():\n",
        "    avg=sum(j)/len(j)\n",
        "    print(f\"{i}:{avg:.2f}\")"
      ]
    },
    {
      "cell_type": "code",
      "execution_count": null,
      "id": "328df37e-381e-4a4c-b58f-1cae0636c6ea",
      "metadata": {
        "id": "328df37e-381e-4a4c-b58f-1cae0636c6ea"
      },
      "outputs": [],
      "source": []
    }
  ],
  "metadata": {
    "kernelspec": {
      "display_name": "Python 3 (ipykernel)",
      "language": "python",
      "name": "python3"
    },
    "language_info": {
      "codemirror_mode": {
        "name": "ipython",
        "version": 3
      },
      "file_extension": ".py",
      "mimetype": "text/x-python",
      "name": "python",
      "nbconvert_exporter": "python",
      "pygments_lexer": "ipython3",
      "version": "3.12.7"
    },
    "colab": {
      "provenance": [],
      "include_colab_link": true
    }
  },
  "nbformat": 4,
  "nbformat_minor": 5
}